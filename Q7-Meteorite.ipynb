{
 "cells": [
  {
   "cell_type": "code",
   "execution_count": 4,
   "metadata": {},
   "outputs": [],
   "source": [
    "import pandas as pd\n",
    "import seaborn as sns\n",
    "import matplotlib.pyplot as plt"
   ]
  },
  {
   "cell_type": "code",
   "execution_count": 22,
   "metadata": {},
   "outputs": [],
   "source": [
    "df=pd.read_csv(\"Structured_data.csv\")"
   ]
  },
  {
   "cell_type": "code",
   "execution_count": 5,
   "metadata": {},
   "outputs": [
    {
     "ename": "SyntaxError",
     "evalue": "invalid character '●' (U+25CF) (465752939.py, line 2)",
     "output_type": "error",
     "traceback": [
      "\u001b[1;36m  Cell \u001b[1;32mIn[5], line 2\u001b[1;36m\u001b[0m\n\u001b[1;33m    ● Get all the earth meteorites co-ordinates who fell before the year 1970\u001b[0m\n\u001b[1;37m    ^\u001b[0m\n\u001b[1;31mSyntaxError\u001b[0m\u001b[1;31m:\u001b[0m invalid character '●' (U+25CF)\n"
     ]
    }
   ],
   "source": [
    "Get all the Earth meteorites that fell before the year 2000\n",
    "● Get all the earth meteorites co-ordinates who fell before the year 1970\n",
    "● Assuming that the mass of the earth meteorites was in kg, get all those whose mass was more\n",
    "than 10000kg"
   ]
  },
  {
   "cell_type": "code",
   "execution_count": 23,
   "metadata": {},
   "outputs": [
    {
     "name": "stdout",
     "output_type": "stream",
     "text": [
      "<class 'pandas.core.frame.DataFrame'>\n",
      "RangeIndex: 959 entries, 0 to 958\n",
      "Data columns (total 10 columns):\n",
      " #   Column       Non-Null Count  Dtype  \n",
      "---  ------       --------------  -----  \n",
      " 0   name         959 non-null    object \n",
      " 1   id           959 non-null    int64  \n",
      " 2   nametype     959 non-null    object \n",
      " 3   recclass     959 non-null    object \n",
      " 4   mass         959 non-null    float64\n",
      " 5   fall         959 non-null    object \n",
      " 6   year         948 non-null    object \n",
      " 7   reclat       959 non-null    float64\n",
      " 8   reclong      959 non-null    float64\n",
      " 9   geolocation  959 non-null    object \n",
      "dtypes: float64(3), int64(1), object(6)\n",
      "memory usage: 75.0+ KB\n"
     ]
    }
   ],
   "source": [
    "df.info()"
   ]
  },
  {
   "cell_type": "code",
   "execution_count": 24,
   "metadata": {},
   "outputs": [
    {
     "data": {
      "text/plain": [
       "0         Aachen\n",
       "1         Aarhus\n",
       "2           Abee\n",
       "3       Acapulco\n",
       "4        Achiras\n",
       "         ...    \n",
       "953     Timochin\n",
       "954     Tirupati\n",
       "956        Tjabe\n",
       "957     Tjerebon\n",
       "958    Tomakovka\n",
       "Name: name, Length: 882, dtype: object"
      ]
     },
     "execution_count": 24,
     "metadata": {},
     "output_type": "execute_result"
    }
   ],
   "source": [
    "df_new=df.dropna()\n",
    "\n",
    "df_new[df_new.year.apply(lambda X: int(str(X).split(\"-\")[0])<2000)].name  #all the Earth meteorites that fell before the year 2000"
   ]
  },
  {
   "cell_type": "code",
   "execution_count": 29,
   "metadata": {},
   "outputs": [
    {
     "data": {
      "text/plain": [
       "0         [6, 50]\n",
       "1        [10, 56]\n",
       "2      [-113, 54]\n",
       "4      [-64, -33]\n",
       "5        [71, 32]\n",
       "          ...    \n",
       "953      [35, 54]\n",
       "954      [79, 13]\n",
       "956     [111, -7]\n",
       "957     [106, -6]\n",
       "958      [34, 47]\n",
       "Name: geolocation, Length: 739, dtype: object"
      ]
     },
     "execution_count": 29,
     "metadata": {},
     "output_type": "execute_result"
    }
   ],
   "source": [
    "#all the earth meteorites co-ordinates who fell before the year 1970\n",
    "df_new[df_new.year.apply(lambda X: int(str(X).split(\"-\")[0])<1970)].geolocation"
   ]
  },
  {
   "cell_type": "code",
   "execution_count": 33,
   "metadata": {},
   "outputs": [
    {
     "data": {
      "text/html": [
       "<div>\n",
       "<style scoped>\n",
       "    .dataframe tbody tr th:only-of-type {\n",
       "        vertical-align: middle;\n",
       "    }\n",
       "\n",
       "    .dataframe tbody tr th {\n",
       "        vertical-align: top;\n",
       "    }\n",
       "\n",
       "    .dataframe thead th {\n",
       "        text-align: right;\n",
       "    }\n",
       "</style>\n",
       "<table border=\"1\" class=\"dataframe\">\n",
       "  <thead>\n",
       "    <tr style=\"text-align: right;\">\n",
       "      <th></th>\n",
       "      <th>name</th>\n",
       "      <th>id</th>\n",
       "      <th>nametype</th>\n",
       "      <th>recclass</th>\n",
       "      <th>mass</th>\n",
       "      <th>fall</th>\n",
       "      <th>year</th>\n",
       "      <th>reclat</th>\n",
       "      <th>reclong</th>\n",
       "      <th>geolocation</th>\n",
       "    </tr>\n",
       "  </thead>\n",
       "  <tbody>\n",
       "    <tr>\n",
       "      <th>2</th>\n",
       "      <td>Abee</td>\n",
       "      <td>6</td>\n",
       "      <td>Valid</td>\n",
       "      <td>EH4</td>\n",
       "      <td>107000.0</td>\n",
       "      <td>Fell</td>\n",
       "      <td>1952-01-01</td>\n",
       "      <td>54.21667</td>\n",
       "      <td>-113.00000</td>\n",
       "      <td>[-113, 54]</td>\n",
       "    </tr>\n",
       "    <tr>\n",
       "      <th>7</th>\n",
       "      <td>Agen</td>\n",
       "      <td>392</td>\n",
       "      <td>Valid</td>\n",
       "      <td>H5</td>\n",
       "      <td>30000.0</td>\n",
       "      <td>Fell</td>\n",
       "      <td>1814-01-01</td>\n",
       "      <td>44.21667</td>\n",
       "      <td>0.61667</td>\n",
       "      <td>[0, 44]</td>\n",
       "    </tr>\n",
       "    <tr>\n",
       "      <th>11</th>\n",
       "      <td>Aïr</td>\n",
       "      <td>424</td>\n",
       "      <td>Valid</td>\n",
       "      <td>L6</td>\n",
       "      <td>24000.0</td>\n",
       "      <td>Fell</td>\n",
       "      <td>1925-01-01</td>\n",
       "      <td>19.08333</td>\n",
       "      <td>8.38333</td>\n",
       "      <td>[8, 19]</td>\n",
       "    </tr>\n",
       "    <tr>\n",
       "      <th>15</th>\n",
       "      <td>Akyumak</td>\n",
       "      <td>433</td>\n",
       "      <td>Valid</td>\n",
       "      <td>Iron, IVA</td>\n",
       "      <td>50000.0</td>\n",
       "      <td>Fell</td>\n",
       "      <td>1981-01-01</td>\n",
       "      <td>39.91667</td>\n",
       "      <td>42.81667</td>\n",
       "      <td>[42, 39]</td>\n",
       "    </tr>\n",
       "    <tr>\n",
       "      <th>26</th>\n",
       "      <td>Alfianello</td>\n",
       "      <td>466</td>\n",
       "      <td>Valid</td>\n",
       "      <td>L6</td>\n",
       "      <td>228000.0</td>\n",
       "      <td>Fell</td>\n",
       "      <td>1883-01-01</td>\n",
       "      <td>45.26667</td>\n",
       "      <td>10.15000</td>\n",
       "      <td>[10, 45]</td>\n",
       "    </tr>\n",
       "    <tr>\n",
       "      <th>...</th>\n",
       "      <td>...</td>\n",
       "      <td>...</td>\n",
       "      <td>...</td>\n",
       "      <td>...</td>\n",
       "      <td>...</td>\n",
       "      <td>...</td>\n",
       "      <td>...</td>\n",
       "      <td>...</td>\n",
       "      <td>...</td>\n",
       "      <td>...</td>\n",
       "    </tr>\n",
       "    <tr>\n",
       "      <th>950</th>\n",
       "      <td>Tieschitz</td>\n",
       "      <td>23989</td>\n",
       "      <td>Valid</td>\n",
       "      <td>H/L3.6</td>\n",
       "      <td>28000.0</td>\n",
       "      <td>Fell</td>\n",
       "      <td>1878-01-01</td>\n",
       "      <td>49.60000</td>\n",
       "      <td>17.11667</td>\n",
       "      <td>[17, 49]</td>\n",
       "    </tr>\n",
       "    <tr>\n",
       "      <th>951</th>\n",
       "      <td>Tilden</td>\n",
       "      <td>23998</td>\n",
       "      <td>Valid</td>\n",
       "      <td>L6</td>\n",
       "      <td>74800.0</td>\n",
       "      <td>Fell</td>\n",
       "      <td>1927-01-01</td>\n",
       "      <td>38.20000</td>\n",
       "      <td>-89.68333</td>\n",
       "      <td>[-89, 38]</td>\n",
       "    </tr>\n",
       "    <tr>\n",
       "      <th>953</th>\n",
       "      <td>Timochin</td>\n",
       "      <td>24004</td>\n",
       "      <td>Valid</td>\n",
       "      <td>H5</td>\n",
       "      <td>65500.0</td>\n",
       "      <td>Fell</td>\n",
       "      <td>1807-01-01</td>\n",
       "      <td>54.50000</td>\n",
       "      <td>35.20000</td>\n",
       "      <td>[35, 54]</td>\n",
       "    </tr>\n",
       "    <tr>\n",
       "      <th>956</th>\n",
       "      <td>Tjabe</td>\n",
       "      <td>24011</td>\n",
       "      <td>Valid</td>\n",
       "      <td>H6</td>\n",
       "      <td>20000.0</td>\n",
       "      <td>Fell</td>\n",
       "      <td>1869-01-01</td>\n",
       "      <td>-7.08333</td>\n",
       "      <td>111.53333</td>\n",
       "      <td>[111, -7]</td>\n",
       "    </tr>\n",
       "    <tr>\n",
       "      <th>957</th>\n",
       "      <td>Tjerebon</td>\n",
       "      <td>24012</td>\n",
       "      <td>Valid</td>\n",
       "      <td>L5</td>\n",
       "      <td>16500.0</td>\n",
       "      <td>Fell</td>\n",
       "      <td>1922-01-01</td>\n",
       "      <td>-6.66667</td>\n",
       "      <td>106.58333</td>\n",
       "      <td>[106, -6]</td>\n",
       "    </tr>\n",
       "  </tbody>\n",
       "</table>\n",
       "<p>243 rows × 10 columns</p>\n",
       "</div>"
      ],
      "text/plain": [
       "           name     id nametype   recclass      mass  fall        year   \n",
       "2          Abee      6    Valid        EH4  107000.0  Fell  1952-01-01  \\\n",
       "7          Agen    392    Valid         H5   30000.0  Fell  1814-01-01   \n",
       "11          Aïr    424    Valid         L6   24000.0  Fell  1925-01-01   \n",
       "15      Akyumak    433    Valid  Iron, IVA   50000.0  Fell  1981-01-01   \n",
       "26   Alfianello    466    Valid         L6  228000.0  Fell  1883-01-01   \n",
       "..          ...    ...      ...        ...       ...   ...         ...   \n",
       "950   Tieschitz  23989    Valid     H/L3.6   28000.0  Fell  1878-01-01   \n",
       "951      Tilden  23998    Valid         L6   74800.0  Fell  1927-01-01   \n",
       "953    Timochin  24004    Valid         H5   65500.0  Fell  1807-01-01   \n",
       "956       Tjabe  24011    Valid         H6   20000.0  Fell  1869-01-01   \n",
       "957    Tjerebon  24012    Valid         L5   16500.0  Fell  1922-01-01   \n",
       "\n",
       "       reclat    reclong geolocation  \n",
       "2    54.21667 -113.00000  [-113, 54]  \n",
       "7    44.21667    0.61667     [0, 44]  \n",
       "11   19.08333    8.38333     [8, 19]  \n",
       "15   39.91667   42.81667    [42, 39]  \n",
       "26   45.26667   10.15000    [10, 45]  \n",
       "..        ...        ...         ...  \n",
       "950  49.60000   17.11667    [17, 49]  \n",
       "951  38.20000  -89.68333   [-89, 38]  \n",
       "953  54.50000   35.20000    [35, 54]  \n",
       "956  -7.08333  111.53333   [111, -7]  \n",
       "957  -6.66667  106.58333   [106, -6]  \n",
       "\n",
       "[243 rows x 10 columns]"
      ]
     },
     "execution_count": 33,
     "metadata": {},
     "output_type": "execute_result"
    }
   ],
   "source": [
    "#all those whose mass was more than 10000kg\n",
    "df[df.mass > 10000] # these all have mass more that 10000 kg"
   ]
  },
  {
   "cell_type": "code",
   "execution_count": null,
   "metadata": {},
   "outputs": [],
   "source": []
  }
 ],
 "metadata": {
  "kernelspec": {
   "display_name": "Python 3",
   "language": "python",
   "name": "python3"
  },
  "language_info": {
   "codemirror_mode": {
    "name": "ipython",
    "version": 3
   },
   "file_extension": ".py",
   "mimetype": "text/x-python",
   "name": "python",
   "nbconvert_exporter": "python",
   "pygments_lexer": "ipython3",
   "version": "3.10.11"
  },
  "orig_nbformat": 4
 },
 "nbformat": 4,
 "nbformat_minor": 2
}
