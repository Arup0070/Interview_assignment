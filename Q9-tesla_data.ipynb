{
 "cells": [
  {
   "cell_type": "code",
   "execution_count": 1,
   "metadata": {},
   "outputs": [],
   "source": [
    "import pandas as pd\n",
    "import seaborn as sns\n",
    "import matplotlib.pyplot as plt"
   ]
  },
  {
   "cell_type": "code",
   "execution_count": 3,
   "metadata": {},
   "outputs": [],
   "source": [
    "df=pd.read_csv(\"https://data.wa.gov/api/views/f6w7-q2d2/rows.csv?accessType=DOWNLOAD\")"
   ]
  },
  {
   "cell_type": "code",
   "execution_count": 4,
   "metadata": {},
   "outputs": [
    {
     "ename": "SyntaxError",
     "evalue": "invalid character '●' (U+25CF) (2937486578.py, line 1)",
     "output_type": "error",
     "traceback": [
      "\u001b[1;36m  Cell \u001b[1;32mIn[4], line 1\u001b[1;36m\u001b[0m\n\u001b[1;33m    ● Get all the cars and their types that do not qualify for clean alternative fuel vehicle\u001b[0m\n\u001b[1;37m    ^\u001b[0m\n\u001b[1;31mSyntaxError\u001b[0m\u001b[1;31m:\u001b[0m invalid character '●' (U+25CF)\n"
     ]
    }
   ],
   "source": [
    "● Get all the cars and their types that do not qualify for clean alternative fuel vehicle\n",
    "● Get all TESLA cars with the model year, and model type made in Bothell City.\n",
    "● Get all the cars that have an electric range of more than 100, and were made after\n",
    "2015\n",
    "● Draw plots to show the distribution between city and electric vehicle type\n"
   ]
  },
  {
   "cell_type": "code",
   "execution_count": 6,
   "metadata": {},
   "outputs": [
    {
     "data": {
      "text/plain": [
       "(130443, 17)"
      ]
     },
     "execution_count": 6,
     "metadata": {},
     "output_type": "execute_result"
    }
   ],
   "source": [
    "df.shape"
   ]
  },
  {
   "cell_type": "code",
   "execution_count": 7,
   "metadata": {},
   "outputs": [
    {
     "name": "stdout",
     "output_type": "stream",
     "text": [
      "<class 'pandas.core.frame.DataFrame'>\n",
      "RangeIndex: 130443 entries, 0 to 130442\n",
      "Data columns (total 17 columns):\n",
      " #   Column                                             Non-Null Count   Dtype  \n",
      "---  ------                                             --------------   -----  \n",
      " 0   VIN (1-10)                                         130443 non-null  object \n",
      " 1   County                                             130440 non-null  object \n",
      " 2   City                                               130440 non-null  object \n",
      " 3   State                                              130443 non-null  object \n",
      " 4   Postal Code                                        130440 non-null  float64\n",
      " 5   Model Year                                         130443 non-null  int64  \n",
      " 6   Make                                               130443 non-null  object \n",
      " 7   Model                                              130221 non-null  object \n",
      " 8   Electric Vehicle Type                              130443 non-null  object \n",
      " 9   Clean Alternative Fuel Vehicle (CAFV) Eligibility  130443 non-null  object \n",
      " 10  Electric Range                                     130443 non-null  int64  \n",
      " 11  Base MSRP                                          130443 non-null  int64  \n",
      " 12  Legislative District                               130138 non-null  float64\n",
      " 13  DOL Vehicle ID                                     130443 non-null  int64  \n",
      " 14  Vehicle Location                                   130410 non-null  object \n",
      " 15  Electric Utility                                   130440 non-null  object \n",
      " 16  2020 Census Tract                                  130440 non-null  float64\n",
      "dtypes: float64(3), int64(4), object(10)\n",
      "memory usage: 16.9+ MB\n"
     ]
    }
   ],
   "source": [
    "df.info()"
   ]
  },
  {
   "cell_type": "code",
   "execution_count": 8,
   "metadata": {},
   "outputs": [
    {
     "name": "stderr",
     "output_type": "stream",
     "text": [
      "c:\\Users\\arup9\\AppData\\Local\\Programs\\Python\\Python310\\lib\\site-packages\\pandas\\core\\dtypes\\cast.py:1066: RuntimeWarning: invalid value encountered in cast\n",
      "  if (arr.astype(int) == arr).all():\n",
      "c:\\Users\\arup9\\AppData\\Local\\Programs\\Python\\Python310\\lib\\site-packages\\pandas\\core\\dtypes\\cast.py:1091: RuntimeWarning: invalid value encountered in cast\n",
      "  if (arr.astype(int) == arr).all():\n"
     ]
    },
    {
     "data": {
      "text/html": [
       "<div>\n",
       "<style scoped>\n",
       "    .dataframe tbody tr th:only-of-type {\n",
       "        vertical-align: middle;\n",
       "    }\n",
       "\n",
       "    .dataframe tbody tr th {\n",
       "        vertical-align: top;\n",
       "    }\n",
       "\n",
       "    .dataframe thead th {\n",
       "        text-align: right;\n",
       "    }\n",
       "</style>\n",
       "<table border=\"1\" class=\"dataframe\">\n",
       "  <thead>\n",
       "    <tr style=\"text-align: right;\">\n",
       "      <th></th>\n",
       "      <th>VIN (1-10)</th>\n",
       "      <th>County</th>\n",
       "      <th>City</th>\n",
       "      <th>State</th>\n",
       "      <th>Postal Code</th>\n",
       "      <th>Model Year</th>\n",
       "      <th>Make</th>\n",
       "      <th>Model</th>\n",
       "      <th>Electric Vehicle Type</th>\n",
       "      <th>Clean Alternative Fuel Vehicle (CAFV) Eligibility</th>\n",
       "      <th>Electric Range</th>\n",
       "      <th>Base MSRP</th>\n",
       "      <th>Legislative District</th>\n",
       "      <th>DOL Vehicle ID</th>\n",
       "      <th>Vehicle Location</th>\n",
       "      <th>Electric Utility</th>\n",
       "      <th>2020 Census Tract</th>\n",
       "    </tr>\n",
       "  </thead>\n",
       "  <tbody>\n",
       "    <tr>\n",
       "      <th>0</th>\n",
       "      <td>5YJXCAE26J</td>\n",
       "      <td>Yakima</td>\n",
       "      <td>Yakima</td>\n",
       "      <td>WA</td>\n",
       "      <td>98908</td>\n",
       "      <td>2018</td>\n",
       "      <td>TESLA</td>\n",
       "      <td>MODEL X</td>\n",
       "      <td>Battery Electric Vehicle (BEV)</td>\n",
       "      <td>Clean Alternative Fuel Vehicle Eligible</td>\n",
       "      <td>238</td>\n",
       "      <td>0</td>\n",
       "      <td>14</td>\n",
       "      <td>141151601</td>\n",
       "      <td>POINT (-120.56916 46.58514)</td>\n",
       "      <td>PACIFICORP</td>\n",
       "      <td>53077001100.0</td>\n",
       "    </tr>\n",
       "    <tr>\n",
       "      <th>1</th>\n",
       "      <td>JHMZC5F37M</td>\n",
       "      <td>Kitsap</td>\n",
       "      <td>Poulsbo</td>\n",
       "      <td>WA</td>\n",
       "      <td>98370</td>\n",
       "      <td>2021</td>\n",
       "      <td>HONDA</td>\n",
       "      <td>CLARITY</td>\n",
       "      <td>Plug-in Hybrid Electric Vehicle (PHEV)</td>\n",
       "      <td>Clean Alternative Fuel Vehicle Eligible</td>\n",
       "      <td>47</td>\n",
       "      <td>0</td>\n",
       "      <td>23</td>\n",
       "      <td>171566447</td>\n",
       "      <td>POINT (-122.64681 47.73689)</td>\n",
       "      <td>PUGET SOUND ENERGY INC</td>\n",
       "      <td>53035090400.0</td>\n",
       "    </tr>\n",
       "    <tr>\n",
       "      <th>2</th>\n",
       "      <td>5YJ3E1EB0K</td>\n",
       "      <td>King</td>\n",
       "      <td>Seattle</td>\n",
       "      <td>WA</td>\n",
       "      <td>98199</td>\n",
       "      <td>2019</td>\n",
       "      <td>TESLA</td>\n",
       "      <td>MODEL 3</td>\n",
       "      <td>Battery Electric Vehicle (BEV)</td>\n",
       "      <td>Clean Alternative Fuel Vehicle Eligible</td>\n",
       "      <td>220</td>\n",
       "      <td>0</td>\n",
       "      <td>36</td>\n",
       "      <td>9426525</td>\n",
       "      <td>POINT (-122.40092 47.65908)</td>\n",
       "      <td>CITY OF SEATTLE - (WA)|CITY OF TACOMA - (WA)</td>\n",
       "      <td>53033005803.0</td>\n",
       "    </tr>\n",
       "    <tr>\n",
       "      <th>3</th>\n",
       "      <td>1N4AZ0CP5D</td>\n",
       "      <td>King</td>\n",
       "      <td>Seattle</td>\n",
       "      <td>WA</td>\n",
       "      <td>98119</td>\n",
       "      <td>2013</td>\n",
       "      <td>NISSAN</td>\n",
       "      <td>LEAF</td>\n",
       "      <td>Battery Electric Vehicle (BEV)</td>\n",
       "      <td>Clean Alternative Fuel Vehicle Eligible</td>\n",
       "      <td>75</td>\n",
       "      <td>0</td>\n",
       "      <td>36</td>\n",
       "      <td>211807760</td>\n",
       "      <td>POINT (-122.3684 47.64586)</td>\n",
       "      <td>CITY OF SEATTLE - (WA)|CITY OF TACOMA - (WA)</td>\n",
       "      <td>53033005804.0</td>\n",
       "    </tr>\n",
       "    <tr>\n",
       "      <th>4</th>\n",
       "      <td>5YJSA1E21H</td>\n",
       "      <td>Thurston</td>\n",
       "      <td>Lacey</td>\n",
       "      <td>WA</td>\n",
       "      <td>98516</td>\n",
       "      <td>2017</td>\n",
       "      <td>TESLA</td>\n",
       "      <td>MODEL S</td>\n",
       "      <td>Battery Electric Vehicle (BEV)</td>\n",
       "      <td>Clean Alternative Fuel Vehicle Eligible</td>\n",
       "      <td>210</td>\n",
       "      <td>0</td>\n",
       "      <td>22</td>\n",
       "      <td>185810306</td>\n",
       "      <td>POINT (-122.75379 47.06316)</td>\n",
       "      <td>PUGET SOUND ENERGY INC</td>\n",
       "      <td>53067012226.0</td>\n",
       "    </tr>\n",
       "    <tr>\n",
       "      <th>...</th>\n",
       "      <td>...</td>\n",
       "      <td>...</td>\n",
       "      <td>...</td>\n",
       "      <td>...</td>\n",
       "      <td>...</td>\n",
       "      <td>...</td>\n",
       "      <td>...</td>\n",
       "      <td>...</td>\n",
       "      <td>...</td>\n",
       "      <td>...</td>\n",
       "      <td>...</td>\n",
       "      <td>...</td>\n",
       "      <td>...</td>\n",
       "      <td>...</td>\n",
       "      <td>...</td>\n",
       "      <td>...</td>\n",
       "      <td>...</td>\n",
       "    </tr>\n",
       "    <tr>\n",
       "      <th>130438</th>\n",
       "      <td>7SAYGDEE6P</td>\n",
       "      <td>Pierce</td>\n",
       "      <td>Gig Harbor</td>\n",
       "      <td>WA</td>\n",
       "      <td>98335</td>\n",
       "      <td>2023</td>\n",
       "      <td>TESLA</td>\n",
       "      <td>MODEL Y</td>\n",
       "      <td>Battery Electric Vehicle (BEV)</td>\n",
       "      <td>Eligibility unknown as battery range has not b...</td>\n",
       "      <td>0</td>\n",
       "      <td>0</td>\n",
       "      <td>26</td>\n",
       "      <td>231134102</td>\n",
       "      <td>POINT (-122.58354539999999 47.32344880000005)</td>\n",
       "      <td>BONNEVILLE POWER ADMINISTRATION||CITY OF TACOM...</td>\n",
       "      <td>53053072405.0</td>\n",
       "    </tr>\n",
       "    <tr>\n",
       "      <th>130439</th>\n",
       "      <td>1N4BZ1CV7N</td>\n",
       "      <td>Pierce</td>\n",
       "      <td>Tacoma</td>\n",
       "      <td>WA</td>\n",
       "      <td>98408</td>\n",
       "      <td>2022</td>\n",
       "      <td>NISSAN</td>\n",
       "      <td>LEAF</td>\n",
       "      <td>Battery Electric Vehicle (BEV)</td>\n",
       "      <td>Eligibility unknown as battery range has not b...</td>\n",
       "      <td>0</td>\n",
       "      <td>0</td>\n",
       "      <td>29</td>\n",
       "      <td>185810943</td>\n",
       "      <td>POINT (-122.43810499999995 47.203220000000044)</td>\n",
       "      <td>BONNEVILLE POWER ADMINISTRATION||CITY OF TACOM...</td>\n",
       "      <td>53053063100.0</td>\n",
       "    </tr>\n",
       "    <tr>\n",
       "      <th>130440</th>\n",
       "      <td>5YJYGDEE8M</td>\n",
       "      <td>King</td>\n",
       "      <td>Seattle</td>\n",
       "      <td>WA</td>\n",
       "      <td>98109</td>\n",
       "      <td>2021</td>\n",
       "      <td>TESLA</td>\n",
       "      <td>MODEL Y</td>\n",
       "      <td>Battery Electric Vehicle (BEV)</td>\n",
       "      <td>Eligibility unknown as battery range has not b...</td>\n",
       "      <td>0</td>\n",
       "      <td>0</td>\n",
       "      <td>36</td>\n",
       "      <td>176542418</td>\n",
       "      <td>POINT (-122.35022 47.63824)</td>\n",
       "      <td>CITY OF SEATTLE - (WA)|CITY OF TACOMA - (WA)</td>\n",
       "      <td>53033007002.0</td>\n",
       "    </tr>\n",
       "    <tr>\n",
       "      <th>130441</th>\n",
       "      <td>5YJXCBE22L</td>\n",
       "      <td>Island</td>\n",
       "      <td>Camano Island</td>\n",
       "      <td>WA</td>\n",
       "      <td>98282</td>\n",
       "      <td>2020</td>\n",
       "      <td>TESLA</td>\n",
       "      <td>MODEL X</td>\n",
       "      <td>Battery Electric Vehicle (BEV)</td>\n",
       "      <td>Clean Alternative Fuel Vehicle Eligible</td>\n",
       "      <td>293</td>\n",
       "      <td>0</td>\n",
       "      <td>10</td>\n",
       "      <td>102834938</td>\n",
       "      <td>POINT (-122.40049 48.23986)</td>\n",
       "      <td>BONNEVILLE POWER ADMINISTRATION||PUD 1 OF SNOH...</td>\n",
       "      <td>53029971400.0</td>\n",
       "    </tr>\n",
       "    <tr>\n",
       "      <th>130442</th>\n",
       "      <td>5YJ3E1EA5M</td>\n",
       "      <td>Pierce</td>\n",
       "      <td>Puyallup</td>\n",
       "      <td>WA</td>\n",
       "      <td>98375</td>\n",
       "      <td>2021</td>\n",
       "      <td>TESLA</td>\n",
       "      <td>MODEL 3</td>\n",
       "      <td>Battery Electric Vehicle (BEV)</td>\n",
       "      <td>Eligibility unknown as battery range has not b...</td>\n",
       "      <td>0</td>\n",
       "      <td>0</td>\n",
       "      <td>2</td>\n",
       "      <td>180473639</td>\n",
       "      <td>POINT (-122.30116 47.1165)</td>\n",
       "      <td>BONNEVILLE POWER ADMINISTRATION||CITY OF TACOM...</td>\n",
       "      <td>53053073126.0</td>\n",
       "    </tr>\n",
       "  </tbody>\n",
       "</table>\n",
       "<p>130443 rows × 17 columns</p>\n",
       "</div>"
      ],
      "text/plain": [
       "        VIN (1-10)    County           City State  Postal Code  Model Year   \n",
       "0       5YJXCAE26J    Yakima         Yakima    WA        98908        2018  \\\n",
       "1       JHMZC5F37M    Kitsap        Poulsbo    WA        98370        2021   \n",
       "2       5YJ3E1EB0K      King        Seattle    WA        98199        2019   \n",
       "3       1N4AZ0CP5D      King        Seattle    WA        98119        2013   \n",
       "4       5YJSA1E21H  Thurston          Lacey    WA        98516        2017   \n",
       "...            ...       ...            ...   ...          ...         ...   \n",
       "130438  7SAYGDEE6P    Pierce     Gig Harbor    WA        98335        2023   \n",
       "130439  1N4BZ1CV7N    Pierce         Tacoma    WA        98408        2022   \n",
       "130440  5YJYGDEE8M      King        Seattle    WA        98109        2021   \n",
       "130441  5YJXCBE22L    Island  Camano Island    WA        98282        2020   \n",
       "130442  5YJ3E1EA5M    Pierce       Puyallup    WA        98375        2021   \n",
       "\n",
       "          Make    Model                   Electric Vehicle Type   \n",
       "0        TESLA  MODEL X          Battery Electric Vehicle (BEV)  \\\n",
       "1        HONDA  CLARITY  Plug-in Hybrid Electric Vehicle (PHEV)   \n",
       "2        TESLA  MODEL 3          Battery Electric Vehicle (BEV)   \n",
       "3       NISSAN     LEAF          Battery Electric Vehicle (BEV)   \n",
       "4        TESLA  MODEL S          Battery Electric Vehicle (BEV)   \n",
       "...        ...      ...                                     ...   \n",
       "130438   TESLA  MODEL Y          Battery Electric Vehicle (BEV)   \n",
       "130439  NISSAN     LEAF          Battery Electric Vehicle (BEV)   \n",
       "130440   TESLA  MODEL Y          Battery Electric Vehicle (BEV)   \n",
       "130441   TESLA  MODEL X          Battery Electric Vehicle (BEV)   \n",
       "130442   TESLA  MODEL 3          Battery Electric Vehicle (BEV)   \n",
       "\n",
       "        Clean Alternative Fuel Vehicle (CAFV) Eligibility  Electric Range   \n",
       "0                 Clean Alternative Fuel Vehicle Eligible             238  \\\n",
       "1                 Clean Alternative Fuel Vehicle Eligible              47   \n",
       "2                 Clean Alternative Fuel Vehicle Eligible             220   \n",
       "3                 Clean Alternative Fuel Vehicle Eligible              75   \n",
       "4                 Clean Alternative Fuel Vehicle Eligible             210   \n",
       "...                                                   ...             ...   \n",
       "130438  Eligibility unknown as battery range has not b...               0   \n",
       "130439  Eligibility unknown as battery range has not b...               0   \n",
       "130440  Eligibility unknown as battery range has not b...               0   \n",
       "130441            Clean Alternative Fuel Vehicle Eligible             293   \n",
       "130442  Eligibility unknown as battery range has not b...               0   \n",
       "\n",
       "        Base MSRP  Legislative District  DOL Vehicle ID   \n",
       "0               0                    14       141151601  \\\n",
       "1               0                    23       171566447   \n",
       "2               0                    36         9426525   \n",
       "3               0                    36       211807760   \n",
       "4               0                    22       185810306   \n",
       "...           ...                   ...             ...   \n",
       "130438          0                    26       231134102   \n",
       "130439          0                    29       185810943   \n",
       "130440          0                    36       176542418   \n",
       "130441          0                    10       102834938   \n",
       "130442          0                     2       180473639   \n",
       "\n",
       "                                      Vehicle Location   \n",
       "0                          POINT (-120.56916 46.58514)  \\\n",
       "1                          POINT (-122.64681 47.73689)   \n",
       "2                          POINT (-122.40092 47.65908)   \n",
       "3                           POINT (-122.3684 47.64586)   \n",
       "4                          POINT (-122.75379 47.06316)   \n",
       "...                                                ...   \n",
       "130438   POINT (-122.58354539999999 47.32344880000005)   \n",
       "130439  POINT (-122.43810499999995 47.203220000000044)   \n",
       "130440                     POINT (-122.35022 47.63824)   \n",
       "130441                     POINT (-122.40049 48.23986)   \n",
       "130442                      POINT (-122.30116 47.1165)   \n",
       "\n",
       "                                         Electric Utility  2020 Census Tract  \n",
       "0                                              PACIFICORP      53077001100.0  \n",
       "1                                  PUGET SOUND ENERGY INC      53035090400.0  \n",
       "2            CITY OF SEATTLE - (WA)|CITY OF TACOMA - (WA)      53033005803.0  \n",
       "3            CITY OF SEATTLE - (WA)|CITY OF TACOMA - (WA)      53033005804.0  \n",
       "4                                  PUGET SOUND ENERGY INC      53067012226.0  \n",
       "...                                                   ...                ...  \n",
       "130438  BONNEVILLE POWER ADMINISTRATION||CITY OF TACOM...      53053072405.0  \n",
       "130439  BONNEVILLE POWER ADMINISTRATION||CITY OF TACOM...      53053063100.0  \n",
       "130440       CITY OF SEATTLE - (WA)|CITY OF TACOMA - (WA)      53033007002.0  \n",
       "130441  BONNEVILLE POWER ADMINISTRATION||PUD 1 OF SNOH...      53029971400.0  \n",
       "130442  BONNEVILLE POWER ADMINISTRATION||CITY OF TACOM...      53053073126.0  \n",
       "\n",
       "[130443 rows x 17 columns]"
      ]
     },
     "execution_count": 8,
     "metadata": {},
     "output_type": "execute_result"
    }
   ],
   "source": [
    "df.convert_dtypes()"
   ]
  },
  {
   "cell_type": "code",
   "execution_count": 40,
   "metadata": {},
   "outputs": [
    {
     "name": "stdout",
     "output_type": "stream",
     "text": [
      "<class 'pandas.core.frame.DataFrame'>\n",
      "Index: 130440 entries, 0 to 130442\n",
      "Data columns (total 17 columns):\n",
      " #   Column                                             Non-Null Count   Dtype  \n",
      "---  ------                                             --------------   -----  \n",
      " 0   VIN (1-10)                                         130440 non-null  object \n",
      " 1   County                                             130440 non-null  string \n",
      " 2   City                                               130440 non-null  string \n",
      " 3   State                                              130440 non-null  string \n",
      " 4   Postal Code                                        130440 non-null  int64  \n",
      " 5   Model Year                                         130440 non-null  int64  \n",
      " 6   Make                                               130440 non-null  object \n",
      " 7   Model                                              130218 non-null  object \n",
      " 8   Electric Vehicle Type                              130440 non-null  object \n",
      " 9   Clean Alternative Fuel Vehicle (CAFV) Eligibility  130440 non-null  object \n",
      " 10  Electric Range                                     130440 non-null  int64  \n",
      " 11  Base MSRP                                          130440 non-null  int64  \n",
      " 12  Legislative District                               130138 non-null  float64\n",
      " 13  DOL Vehicle ID                                     130440 non-null  int64  \n",
      " 14  Vehicle Location                                   130410 non-null  object \n",
      " 15  Electric Utility                                   130440 non-null  object \n",
      " 16  2020 Census Tract                                  130440 non-null  float64\n",
      "dtypes: float64(2), int64(5), object(7), string(3)\n",
      "memory usage: 17.9+ MB\n"
     ]
    }
   ],
   "source": [
    "df.info()"
   ]
  },
  {
   "cell_type": "code",
   "execution_count": 15,
   "metadata": {},
   "outputs": [],
   "source": [
    "df.County=df.County.astype(\"string\")"
   ]
  },
  {
   "cell_type": "code",
   "execution_count": 37,
   "metadata": {},
   "outputs": [
    {
     "data": {
      "text/html": [
       "<div>\n",
       "<style scoped>\n",
       "    .dataframe tbody tr th:only-of-type {\n",
       "        vertical-align: middle;\n",
       "    }\n",
       "\n",
       "    .dataframe tbody tr th {\n",
       "        vertical-align: top;\n",
       "    }\n",
       "\n",
       "    .dataframe thead th {\n",
       "        text-align: right;\n",
       "    }\n",
       "</style>\n",
       "<table border=\"1\" class=\"dataframe\">\n",
       "  <thead>\n",
       "    <tr style=\"text-align: right;\">\n",
       "      <th></th>\n",
       "      <th>VIN (1-10)</th>\n",
       "      <th>County</th>\n",
       "      <th>City</th>\n",
       "      <th>State</th>\n",
       "      <th>Postal Code</th>\n",
       "      <th>Model Year</th>\n",
       "      <th>Make</th>\n",
       "      <th>Model</th>\n",
       "      <th>Electric Vehicle Type</th>\n",
       "      <th>Clean Alternative Fuel Vehicle (CAFV) Eligibility</th>\n",
       "      <th>Electric Range</th>\n",
       "      <th>Base MSRP</th>\n",
       "      <th>Legislative District</th>\n",
       "      <th>DOL Vehicle ID</th>\n",
       "      <th>Vehicle Location</th>\n",
       "      <th>Electric Utility</th>\n",
       "      <th>2020 Census Tract</th>\n",
       "    </tr>\n",
       "  </thead>\n",
       "  <tbody>\n",
       "  </tbody>\n",
       "</table>\n",
       "</div>"
      ],
      "text/plain": [
       "Empty DataFrame\n",
       "Columns: [VIN (1-10), County, City, State, Postal Code, Model Year, Make, Model, Electric Vehicle Type, Clean Alternative Fuel Vehicle (CAFV) Eligibility, Electric Range, Base MSRP, Legislative District, DOL Vehicle ID, Vehicle Location, Electric Utility, 2020 Census Tract]\n",
       "Index: []"
      ]
     },
     "execution_count": 37,
     "metadata": {},
     "output_type": "execute_result"
    }
   ],
   "source": [
    "df[df[\"Postal Code\"].isna()]"
   ]
  },
  {
   "cell_type": "code",
   "execution_count": 16,
   "metadata": {},
   "outputs": [],
   "source": [
    "df.City=df.City.astype(\"string\")"
   ]
  },
  {
   "cell_type": "code",
   "execution_count": 36,
   "metadata": {},
   "outputs": [],
   "source": [
    "df.drop(index=[102,103,127670],inplace=True)"
   ]
  },
  {
   "cell_type": "code",
   "execution_count": 20,
   "metadata": {},
   "outputs": [],
   "source": [
    "df.State=df.State.astype(\"string\")"
   ]
  },
  {
   "cell_type": "code",
   "execution_count": 39,
   "metadata": {},
   "outputs": [],
   "source": [
    "df[\"Postal Code\"]=df[\"Postal Code\"].astype(\"int64\")"
   ]
  },
  {
   "cell_type": "code",
   "execution_count": 43,
   "metadata": {},
   "outputs": [],
   "source": [
    "df.Make=df.Make.astype(\"string\")"
   ]
  },
  {
   "cell_type": "code",
   "execution_count": 46,
   "metadata": {},
   "outputs": [],
   "source": [
    "df.Model=df.Model.astype(\"string\")"
   ]
  },
  {
   "cell_type": "code",
   "execution_count": 49,
   "metadata": {},
   "outputs": [],
   "source": [
    "df[\"Electric Vehicle Type\"]=df[\"Electric Vehicle Type\"].astype(\"string\")"
   ]
  },
  {
   "cell_type": "code",
   "execution_count": 52,
   "metadata": {},
   "outputs": [],
   "source": [
    "df[\"Clean Alternative Fuel Vehicle (CAFV) Eligibility\"]=df[\"Clean Alternative Fuel Vehicle (CAFV) Eligibility\"].astype(\"string\")"
   ]
  },
  {
   "cell_type": "code",
   "execution_count": 53,
   "metadata": {},
   "outputs": [
    {
     "data": {
      "text/plain": [
       "0                            POINT (-120.56916 46.58514)\n",
       "1                            POINT (-122.64681 47.73689)\n",
       "2                            POINT (-122.40092 47.65908)\n",
       "3                             POINT (-122.3684 47.64586)\n",
       "4                            POINT (-122.75379 47.06316)\n",
       "                               ...                      \n",
       "130438     POINT (-122.58354539999999 47.32344880000005)\n",
       "130439    POINT (-122.43810499999995 47.203220000000044)\n",
       "130440                       POINT (-122.35022 47.63824)\n",
       "130441                       POINT (-122.40049 48.23986)\n",
       "130442                        POINT (-122.30116 47.1165)\n",
       "Name: Vehicle Location, Length: 130440, dtype: object"
      ]
     },
     "execution_count": 53,
     "metadata": {},
     "output_type": "execute_result"
    }
   ],
   "source": [
    "df[\"Vehicle Location\"]"
   ]
  },
  {
   "cell_type": "code",
   "execution_count": 54,
   "metadata": {},
   "outputs": [
    {
     "name": "stdout",
     "output_type": "stream",
     "text": [
      "<class 'pandas.core.frame.DataFrame'>\n",
      "Index: 130440 entries, 0 to 130442\n",
      "Data columns (total 17 columns):\n",
      " #   Column                                             Non-Null Count   Dtype  \n",
      "---  ------                                             --------------   -----  \n",
      " 0   VIN (1-10)                                         130440 non-null  object \n",
      " 1   County                                             130440 non-null  string \n",
      " 2   City                                               130440 non-null  string \n",
      " 3   State                                              130440 non-null  string \n",
      " 4   Postal Code                                        130440 non-null  int64  \n",
      " 5   Model Year                                         130440 non-null  int64  \n",
      " 6   Make                                               130440 non-null  string \n",
      " 7   Model                                              130218 non-null  string \n",
      " 8   Electric Vehicle Type                              130440 non-null  string \n",
      " 9   Clean Alternative Fuel Vehicle (CAFV) Eligibility  130440 non-null  string \n",
      " 10  Electric Range                                     130440 non-null  int64  \n",
      " 11  Base MSRP                                          130440 non-null  int64  \n",
      " 12  Legislative District                               130138 non-null  float64\n",
      " 13  DOL Vehicle ID                                     130440 non-null  int64  \n",
      " 14  Vehicle Location                                   130410 non-null  object \n",
      " 15  Electric Utility                                   130440 non-null  object \n",
      " 16  2020 Census Tract                                  130440 non-null  float64\n",
      "dtypes: float64(2), int64(5), object(3), string(7)\n",
      "memory usage: 17.9+ MB\n"
     ]
    }
   ],
   "source": [
    "df.info()"
   ]
  },
  {
   "cell_type": "code",
   "execution_count": 60,
   "metadata": {},
   "outputs": [
    {
     "data": {
      "text/plain": [
       "<StringArray>\n",
       "[                     'Clean Alternative Fuel Vehicle Eligible',\n",
       "                        'Not eligible due to low battery range',\n",
       " 'Eligibility unknown as battery range has not been researched']\n",
       "Length: 3, dtype: string"
      ]
     },
     "execution_count": 60,
     "metadata": {},
     "output_type": "execute_result"
    }
   ],
   "source": [
    "df[\"Clean Alternative Fuel Vehicle (CAFV) Eligibility\"].unique()"
   ]
  },
  {
   "cell_type": "code",
   "execution_count": 61,
   "metadata": {},
   "outputs": [
    {
     "data": {
      "text/html": [
       "<div>\n",
       "<style scoped>\n",
       "    .dataframe tbody tr th:only-of-type {\n",
       "        vertical-align: middle;\n",
       "    }\n",
       "\n",
       "    .dataframe tbody tr th {\n",
       "        vertical-align: top;\n",
       "    }\n",
       "\n",
       "    .dataframe thead th {\n",
       "        text-align: right;\n",
       "    }\n",
       "</style>\n",
       "<table border=\"1\" class=\"dataframe\">\n",
       "  <thead>\n",
       "    <tr style=\"text-align: right;\">\n",
       "      <th></th>\n",
       "      <th>Model</th>\n",
       "      <th>Electric Vehicle Type</th>\n",
       "    </tr>\n",
       "  </thead>\n",
       "  <tbody>\n",
       "    <tr>\n",
       "      <th>6</th>\n",
       "      <td>FUSION</td>\n",
       "      <td>Plug-in Hybrid Electric Vehicle (PHEV)</td>\n",
       "    </tr>\n",
       "    <tr>\n",
       "      <th>7</th>\n",
       "      <td>Q5 E</td>\n",
       "      <td>Plug-in Hybrid Electric Vehicle (PHEV)</td>\n",
       "    </tr>\n",
       "    <tr>\n",
       "      <th>8</th>\n",
       "      <td>C-MAX</td>\n",
       "      <td>Plug-in Hybrid Electric Vehicle (PHEV)</td>\n",
       "    </tr>\n",
       "    <tr>\n",
       "      <th>14</th>\n",
       "      <td>C-MAX</td>\n",
       "      <td>Plug-in Hybrid Electric Vehicle (PHEV)</td>\n",
       "    </tr>\n",
       "    <tr>\n",
       "      <th>15</th>\n",
       "      <td>NIRO</td>\n",
       "      <td>Plug-in Hybrid Electric Vehicle (PHEV)</td>\n",
       "    </tr>\n",
       "    <tr>\n",
       "      <th>...</th>\n",
       "      <td>...</td>\n",
       "      <td>...</td>\n",
       "    </tr>\n",
       "    <tr>\n",
       "      <th>130377</th>\n",
       "      <td>530E</td>\n",
       "      <td>Plug-in Hybrid Electric Vehicle (PHEV)</td>\n",
       "    </tr>\n",
       "    <tr>\n",
       "      <th>130385</th>\n",
       "      <td>A3</td>\n",
       "      <td>Plug-in Hybrid Electric Vehicle (PHEV)</td>\n",
       "    </tr>\n",
       "    <tr>\n",
       "      <th>130390</th>\n",
       "      <td>WRANGLER</td>\n",
       "      <td>Plug-in Hybrid Electric Vehicle (PHEV)</td>\n",
       "    </tr>\n",
       "    <tr>\n",
       "      <th>130407</th>\n",
       "      <td>PRIUS PRIME</td>\n",
       "      <td>Plug-in Hybrid Electric Vehicle (PHEV)</td>\n",
       "    </tr>\n",
       "    <tr>\n",
       "      <th>130437</th>\n",
       "      <td>530E</td>\n",
       "      <td>Plug-in Hybrid Electric Vehicle (PHEV)</td>\n",
       "    </tr>\n",
       "  </tbody>\n",
       "</table>\n",
       "<p>16446 rows × 2 columns</p>\n",
       "</div>"
      ],
      "text/plain": [
       "              Model                   Electric Vehicle Type\n",
       "6            FUSION  Plug-in Hybrid Electric Vehicle (PHEV)\n",
       "7              Q5 E  Plug-in Hybrid Electric Vehicle (PHEV)\n",
       "8             C-MAX  Plug-in Hybrid Electric Vehicle (PHEV)\n",
       "14            C-MAX  Plug-in Hybrid Electric Vehicle (PHEV)\n",
       "15             NIRO  Plug-in Hybrid Electric Vehicle (PHEV)\n",
       "...             ...                                     ...\n",
       "130377         530E  Plug-in Hybrid Electric Vehicle (PHEV)\n",
       "130385           A3  Plug-in Hybrid Electric Vehicle (PHEV)\n",
       "130390     WRANGLER  Plug-in Hybrid Electric Vehicle (PHEV)\n",
       "130407  PRIUS PRIME  Plug-in Hybrid Electric Vehicle (PHEV)\n",
       "130437         530E  Plug-in Hybrid Electric Vehicle (PHEV)\n",
       "\n",
       "[16446 rows x 2 columns]"
      ]
     },
     "execution_count": 61,
     "metadata": {},
     "output_type": "execute_result"
    }
   ],
   "source": [
    "# Get all the cars and their types that do not qualify for clean alternative fuel vehicle\n",
    "df[df[\"Clean Alternative Fuel Vehicle (CAFV) Eligibility\"] == 'Not eligible due to low battery range'][[\"Model\",\"Electric Vehicle Type\"]]"
   ]
  },
  {
   "cell_type": "code",
   "execution_count": 67,
   "metadata": {},
   "outputs": [
    {
     "data": {
      "text/html": [
       "<div>\n",
       "<style scoped>\n",
       "    .dataframe tbody tr th:only-of-type {\n",
       "        vertical-align: middle;\n",
       "    }\n",
       "\n",
       "    .dataframe tbody tr th {\n",
       "        vertical-align: top;\n",
       "    }\n",
       "\n",
       "    .dataframe thead th {\n",
       "        text-align: right;\n",
       "    }\n",
       "</style>\n",
       "<table border=\"1\" class=\"dataframe\">\n",
       "  <thead>\n",
       "    <tr style=\"text-align: right;\">\n",
       "      <th></th>\n",
       "      <th>Model Year</th>\n",
       "      <th>Model</th>\n",
       "    </tr>\n",
       "  </thead>\n",
       "  <tbody>\n",
       "    <tr>\n",
       "      <th>39</th>\n",
       "      <td>2020</td>\n",
       "      <td>MODEL 3</td>\n",
       "    </tr>\n",
       "    <tr>\n",
       "      <th>217</th>\n",
       "      <td>2022</td>\n",
       "      <td>MODEL 3</td>\n",
       "    </tr>\n",
       "    <tr>\n",
       "      <th>218</th>\n",
       "      <td>2022</td>\n",
       "      <td>MODEL Y</td>\n",
       "    </tr>\n",
       "    <tr>\n",
       "      <th>222</th>\n",
       "      <td>2018</td>\n",
       "      <td>MODEL 3</td>\n",
       "    </tr>\n",
       "    <tr>\n",
       "      <th>292</th>\n",
       "      <td>2017</td>\n",
       "      <td>MODEL X</td>\n",
       "    </tr>\n",
       "    <tr>\n",
       "      <th>...</th>\n",
       "      <td>...</td>\n",
       "      <td>...</td>\n",
       "    </tr>\n",
       "    <tr>\n",
       "      <th>129778</th>\n",
       "      <td>2019</td>\n",
       "      <td>MODEL 3</td>\n",
       "    </tr>\n",
       "    <tr>\n",
       "      <th>129954</th>\n",
       "      <td>2021</td>\n",
       "      <td>MODEL 3</td>\n",
       "    </tr>\n",
       "    <tr>\n",
       "      <th>129976</th>\n",
       "      <td>2014</td>\n",
       "      <td>MODEL S</td>\n",
       "    </tr>\n",
       "    <tr>\n",
       "      <th>130295</th>\n",
       "      <td>2022</td>\n",
       "      <td>MODEL 3</td>\n",
       "    </tr>\n",
       "    <tr>\n",
       "      <th>130392</th>\n",
       "      <td>2018</td>\n",
       "      <td>MODEL 3</td>\n",
       "    </tr>\n",
       "  </tbody>\n",
       "</table>\n",
       "<p>2407 rows × 2 columns</p>\n",
       "</div>"
      ],
      "text/plain": [
       "        Model Year    Model\n",
       "39            2020  MODEL 3\n",
       "217           2022  MODEL 3\n",
       "218           2022  MODEL Y\n",
       "222           2018  MODEL 3\n",
       "292           2017  MODEL X\n",
       "...            ...      ...\n",
       "129778        2019  MODEL 3\n",
       "129954        2021  MODEL 3\n",
       "129976        2014  MODEL S\n",
       "130295        2022  MODEL 3\n",
       "130392        2018  MODEL 3\n",
       "\n",
       "[2407 rows x 2 columns]"
      ]
     },
     "execution_count": 67,
     "metadata": {},
     "output_type": "execute_result"
    }
   ],
   "source": [
    "# Get all TESLA cars with the model year, and model type made in Bothell City\n",
    "df[(df.City == \"Bothell\") & (df.Make == \"TESLA\" )][[\"Model Year\",\"Model\"]]"
   ]
  },
  {
   "cell_type": "code",
   "execution_count": 70,
   "metadata": {},
   "outputs": [
    {
     "data": {
      "text/plain": [
       "<StringArray>\n",
       "['MODEL X', 'MODEL 3', 'MODEL S', 'MODEL 3', 'MODEL 3', 'BOLT EV', 'MODEL 3',\n",
       "    'LEAF',    'LEAF', 'MODEL 3',\n",
       " ...\n",
       " 'MODEL S', 'MODEL 3', 'BOLT EV', 'MODEL S', 'MODEL X', 'MODEL Y',    'LEAF',\n",
       " 'MODEL Y', 'MODEL 3', 'MODEL X']\n",
       "Length: 34065, dtype: string"
      ]
     },
     "execution_count": 70,
     "metadata": {},
     "output_type": "execute_result"
    }
   ],
   "source": [
    "# Get all the cars that have an electric range of more than 100, and were made after 2015\n",
    "df[(df[\"Electric Range\"] > 100) & (df[\"Model Year\"] > 2015)].Model.values"
   ]
  },
  {
   "cell_type": "code",
   "execution_count": 79,
   "metadata": {},
   "outputs": [
    {
     "data": {
      "image/png": "[encoded data removed]",
      "text/plain": [
       "<Figure size 640x480 with 1 Axes>"
      ]
     },
     "metadata": {},
     "output_type": "display_data"
    },
    {
     "data": {
      "image/png": "[encoded data removed]",
      "text/plain": [
       "<Figure size 640x480 with 1 Axes>"
      ]
     },
     "metadata": {},
     "output_type": "display_data"
    }
   ],
   "source": [
    "# Draw plots to show the distribution between city and electric vehicle type\n",
    "for i in df[\"Electric Vehicle Type\"].unique():\n",
    "    sns.histplot(data=df[df[\"Electric Vehicle Type\"]==i],x=\"City\",y=\"Electric Vehicle Type\")\n",
    "    plt.show()"
   ]
  },
  {
   "cell_type": "code",
   "execution_count": 73,
   "metadata": {},
   "outputs": [
    {
     "data": {
      "text/plain": [
       "<StringArray>\n",
       "[           'Yakima',           'Poulsbo',           'Seattle',\n",
       "             'Lacey',           'Olympia',          'Tumwater',\n",
       "         'Rochester',         'Bremerton', 'Bainbridge Island',\n",
       "           'Everett',\n",
       " ...\n",
       "       'Spring Lake',           'Jericho',          'Longmont',\n",
       "          'Orchards',          'Napavine',        'Middletown',\n",
       "         'Fairbanks',          'Honolulu',         'Corvallis',\n",
       "            'Aurora']\n",
       "Length: 656, dtype: string"
      ]
     },
     "execution_count": 73,
     "metadata": {},
     "output_type": "execute_result"
    }
   ],
   "source": [
    "df.City.unique()"
   ]
  },
  {
   "cell_type": "code",
   "execution_count": 75,
   "metadata": {},
   "outputs": [
    {
     "data": {
      "text/plain": [
       "<StringArray>\n",
       "['Battery Electric Vehicle (BEV)', 'Plug-in Hybrid Electric Vehicle (PHEV)']\n",
       "Length: 2, dtype: string"
      ]
     },
     "execution_count": 75,
     "metadata": {},
     "output_type": "execute_result"
    }
   ],
   "source": [
    "df[\"Electric Vehicle Type\"].unique()"
   ]
  },
  {
   "cell_type": "code",
   "execution_count": null,
   "metadata": {},
   "outputs": [],
   "source": []
  }
 ],
 "metadata": {
  "kernelspec": {
   "display_name": "Python 3",
   "language": "python",
   "name": "python3"
  },
  "language_info": {
   "codemirror_mode": {
    "name": "ipython",
    "version": 3
   },
   "file_extension": ".py",
   "mimetype": "text/x-python",
   "name": "python",
   "nbconvert_exporter": "python",
   "pygments_lexer": "ipython3",
   "version": "3.10.11"
  },
  "orig_nbformat": 4
 },
 "nbformat": 4,
 "nbformat_minor": 2
}
