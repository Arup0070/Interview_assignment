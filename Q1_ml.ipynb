{
 "cells": [
  {
   "cell_type": "code",
   "execution_count": 2,
   "metadata": {},
   "outputs": [],
   "source": [
    "import pandas as pd\n",
    "import numpy as np\n",
    "import matplotlib.pyplot as plt\n",
    "import seaborn as sns"
   ]
  },
  {
   "cell_type": "code",
   "execution_count": 3,
   "metadata": {},
   "outputs": [],
   "source": [
    "df=pd.read_csv(\"instagram_reach.csv\")"
   ]
  },
  {
   "cell_type": "code",
   "execution_count": 11,
   "metadata": {},
   "outputs": [
    {
     "name": "stderr",
     "output_type": "stream",
     "text": [
      "c:\\Users\\arup9\\AppData\\Local\\Programs\\Python\\Python310\\lib\\site-packages\\seaborn\\axisgrid.py:2095: UserWarning: The `size` parameter has been renamed to `height`; please update your code.\n",
      "  warnings.warn(msg, UserWarning)\n"
     ]
    },
    {
     "data": {
      "image/png": "[encoded data removed]",
      "text/plain": [
       "<Figure size 400x400 with 1 Axes>"
      ]
     },
     "metadata": {},
     "output_type": "display_data"
    }
   ],
   "source": [
    "sns.pairplot(df,x_vars=[\"Followers\"],y_vars=\"Likes\",kind=\"scatter\",size=4)\n",
    "plt.show()"
   ]
  },
  {
   "cell_type": "code",
   "execution_count": 12,
   "metadata": {},
   "outputs": [
    {
     "data": {
      "text/plain": [
       "Unnamed: 0           0\n",
       "S.No                 0\n",
       "USERNAME             0\n",
       "Caption              6\n",
       "Followers            0\n",
       "Hashtags             0\n",
       "Time since posted    0\n",
       "Likes                0\n",
       "dtype: int64"
      ]
     },
     "execution_count": 12,
     "metadata": {},
     "output_type": "execute_result"
    }
   ],
   "source": [
    "df.isna().sum()"
   ]
  },
  {
   "cell_type": "code",
   "execution_count": 13,
   "metadata": {},
   "outputs": [],
   "source": [
    "df.fillna(0,inplace=True)"
   ]
  },
  {
   "cell_type": "code",
   "execution_count": 14,
   "metadata": {},
   "outputs": [],
   "source": [
    "df=pd.get_dummies(df)"
   ]
  },
  {
   "cell_type": "code",
   "execution_count": 15,
   "metadata": {},
   "outputs": [],
   "source": [
    "x=df.iloc[:,:-1]\n",
    "y=df[\"Likes\"]"
   ]
  },
  {
   "cell_type": "code",
   "execution_count": 26,
   "metadata": {},
   "outputs": [],
   "source": [
    "x1=df.drop(\"Likes\",axis=1)\n",
    "y1=df[\"Likes\"]"
   ]
  },
  {
   "cell_type": "code",
   "execution_count": 25,
   "metadata": {},
   "outputs": [
    {
     "data": {
      "text/plain": [
       "0     139\n",
       "1      23\n",
       "2      25\n",
       "3      49\n",
       "4      30\n",
       "     ... \n",
       "95     31\n",
       "96     42\n",
       "97     10\n",
       "98    222\n",
       "99    109\n",
       "Name: Likes, Length: 100, dtype: int64"
      ]
     },
     "execution_count": 25,
     "metadata": {},
     "output_type": "execute_result"
    }
   ],
   "source": [
    "x.Likes"
   ]
  },
  {
   "cell_type": "code",
   "execution_count": 24,
   "metadata": {},
   "outputs": [
    {
     "data": {
      "text/html": [
       "<div>\n",
       "<style scoped>\n",
       "    .dataframe tbody tr th:only-of-type {\n",
       "        vertical-align: middle;\n",
       "    }\n",
       "\n",
       "    .dataframe tbody tr th {\n",
       "        vertical-align: top;\n",
       "    }\n",
       "\n",
       "    .dataframe thead th {\n",
       "        text-align: right;\n",
       "    }\n",
       "</style>\n",
       "<table border=\"1\" class=\"dataframe\">\n",
       "  <thead>\n",
       "    <tr style=\"text-align: right;\">\n",
       "      <th></th>\n",
       "      <th>Unnamed: 0</th>\n",
       "      <th>S.No</th>\n",
       "      <th>Followers</th>\n",
       "      <th>Likes</th>\n",
       "      <th>USERNAME__ehab.othman_</th>\n",
       "      <th>USERNAME__linda_smith567</th>\n",
       "      <th>USERNAME_ah_studio_</th>\n",
       "      <th>USERNAME_aitrading_official</th>\n",
       "      <th>USERNAME_ale_borba</th>\n",
       "      <th>USERNAME_alpha_mentor_</th>\n",
       "      <th>...</th>\n",
       "      <th>Time since posted_14 hours</th>\n",
       "      <th>Time since posted_2 hours</th>\n",
       "      <th>Time since posted_20 hours</th>\n",
       "      <th>Time since posted_24 hours</th>\n",
       "      <th>Time since posted_3 hours</th>\n",
       "      <th>Time since posted_4 hours</th>\n",
       "      <th>Time since posted_5 hours</th>\n",
       "      <th>Time since posted_7 hours</th>\n",
       "      <th>Time since posted_8 hours</th>\n",
       "      <th>Time since posted_9 hours</th>\n",
       "    </tr>\n",
       "  </thead>\n",
       "  <tbody>\n",
       "    <tr>\n",
       "      <th>0</th>\n",
       "      <td>0</td>\n",
       "      <td>1</td>\n",
       "      <td>1600</td>\n",
       "      <td>139</td>\n",
       "      <td>False</td>\n",
       "      <td>False</td>\n",
       "      <td>False</td>\n",
       "      <td>False</td>\n",
       "      <td>False</td>\n",
       "      <td>False</td>\n",
       "      <td>...</td>\n",
       "      <td>False</td>\n",
       "      <td>False</td>\n",
       "      <td>False</td>\n",
       "      <td>False</td>\n",
       "      <td>False</td>\n",
       "      <td>False</td>\n",
       "      <td>False</td>\n",
       "      <td>False</td>\n",
       "      <td>False</td>\n",
       "      <td>False</td>\n",
       "    </tr>\n",
       "    <tr>\n",
       "      <th>1</th>\n",
       "      <td>1</td>\n",
       "      <td>2</td>\n",
       "      <td>880</td>\n",
       "      <td>23</td>\n",
       "      <td>False</td>\n",
       "      <td>False</td>\n",
       "      <td>False</td>\n",
       "      <td>False</td>\n",
       "      <td>False</td>\n",
       "      <td>False</td>\n",
       "      <td>...</td>\n",
       "      <td>False</td>\n",
       "      <td>True</td>\n",
       "      <td>False</td>\n",
       "      <td>False</td>\n",
       "      <td>False</td>\n",
       "      <td>False</td>\n",
       "      <td>False</td>\n",
       "      <td>False</td>\n",
       "      <td>False</td>\n",
       "      <td>False</td>\n",
       "    </tr>\n",
       "    <tr>\n",
       "      <th>2</th>\n",
       "      <td>2</td>\n",
       "      <td>3</td>\n",
       "      <td>255</td>\n",
       "      <td>25</td>\n",
       "      <td>False</td>\n",
       "      <td>False</td>\n",
       "      <td>False</td>\n",
       "      <td>True</td>\n",
       "      <td>False</td>\n",
       "      <td>False</td>\n",
       "      <td>...</td>\n",
       "      <td>False</td>\n",
       "      <td>True</td>\n",
       "      <td>False</td>\n",
       "      <td>False</td>\n",
       "      <td>False</td>\n",
       "      <td>False</td>\n",
       "      <td>False</td>\n",
       "      <td>False</td>\n",
       "      <td>False</td>\n",
       "      <td>False</td>\n",
       "    </tr>\n",
       "    <tr>\n",
       "      <th>3</th>\n",
       "      <td>3</td>\n",
       "      <td>4</td>\n",
       "      <td>340</td>\n",
       "      <td>49</td>\n",
       "      <td>False</td>\n",
       "      <td>False</td>\n",
       "      <td>False</td>\n",
       "      <td>False</td>\n",
       "      <td>False</td>\n",
       "      <td>False</td>\n",
       "      <td>...</td>\n",
       "      <td>False</td>\n",
       "      <td>False</td>\n",
       "      <td>False</td>\n",
       "      <td>False</td>\n",
       "      <td>True</td>\n",
       "      <td>False</td>\n",
       "      <td>False</td>\n",
       "      <td>False</td>\n",
       "      <td>False</td>\n",
       "      <td>False</td>\n",
       "    </tr>\n",
       "    <tr>\n",
       "      <th>4</th>\n",
       "      <td>4</td>\n",
       "      <td>5</td>\n",
       "      <td>304</td>\n",
       "      <td>30</td>\n",
       "      <td>False</td>\n",
       "      <td>False</td>\n",
       "      <td>False</td>\n",
       "      <td>False</td>\n",
       "      <td>False</td>\n",
       "      <td>False</td>\n",
       "      <td>...</td>\n",
       "      <td>False</td>\n",
       "      <td>False</td>\n",
       "      <td>False</td>\n",
       "      <td>False</td>\n",
       "      <td>True</td>\n",
       "      <td>False</td>\n",
       "      <td>False</td>\n",
       "      <td>False</td>\n",
       "      <td>False</td>\n",
       "      <td>False</td>\n",
       "    </tr>\n",
       "    <tr>\n",
       "      <th>...</th>\n",
       "      <td>...</td>\n",
       "      <td>...</td>\n",
       "      <td>...</td>\n",
       "      <td>...</td>\n",
       "      <td>...</td>\n",
       "      <td>...</td>\n",
       "      <td>...</td>\n",
       "      <td>...</td>\n",
       "      <td>...</td>\n",
       "      <td>...</td>\n",
       "      <td>...</td>\n",
       "      <td>...</td>\n",
       "      <td>...</td>\n",
       "      <td>...</td>\n",
       "      <td>...</td>\n",
       "      <td>...</td>\n",
       "      <td>...</td>\n",
       "      <td>...</td>\n",
       "      <td>...</td>\n",
       "      <td>...</td>\n",
       "      <td>...</td>\n",
       "    </tr>\n",
       "    <tr>\n",
       "      <th>95</th>\n",
       "      <td>8</td>\n",
       "      <td>19</td>\n",
       "      <td>614</td>\n",
       "      <td>31</td>\n",
       "      <td>False</td>\n",
       "      <td>False</td>\n",
       "      <td>False</td>\n",
       "      <td>False</td>\n",
       "      <td>False</td>\n",
       "      <td>False</td>\n",
       "      <td>...</td>\n",
       "      <td>False</td>\n",
       "      <td>False</td>\n",
       "      <td>False</td>\n",
       "      <td>False</td>\n",
       "      <td>True</td>\n",
       "      <td>False</td>\n",
       "      <td>False</td>\n",
       "      <td>False</td>\n",
       "      <td>False</td>\n",
       "      <td>False</td>\n",
       "    </tr>\n",
       "    <tr>\n",
       "      <th>96</th>\n",
       "      <td>9</td>\n",
       "      <td>21</td>\n",
       "      <td>450</td>\n",
       "      <td>42</td>\n",
       "      <td>False</td>\n",
       "      <td>False</td>\n",
       "      <td>False</td>\n",
       "      <td>False</td>\n",
       "      <td>False</td>\n",
       "      <td>False</td>\n",
       "      <td>...</td>\n",
       "      <td>False</td>\n",
       "      <td>False</td>\n",
       "      <td>False</td>\n",
       "      <td>False</td>\n",
       "      <td>True</td>\n",
       "      <td>False</td>\n",
       "      <td>False</td>\n",
       "      <td>False</td>\n",
       "      <td>False</td>\n",
       "      <td>False</td>\n",
       "    </tr>\n",
       "    <tr>\n",
       "      <th>97</th>\n",
       "      <td>10</td>\n",
       "      <td>22</td>\n",
       "      <td>182</td>\n",
       "      <td>10</td>\n",
       "      <td>False</td>\n",
       "      <td>False</td>\n",
       "      <td>False</td>\n",
       "      <td>False</td>\n",
       "      <td>False</td>\n",
       "      <td>False</td>\n",
       "      <td>...</td>\n",
       "      <td>False</td>\n",
       "      <td>False</td>\n",
       "      <td>False</td>\n",
       "      <td>False</td>\n",
       "      <td>True</td>\n",
       "      <td>False</td>\n",
       "      <td>False</td>\n",
       "      <td>False</td>\n",
       "      <td>False</td>\n",
       "      <td>False</td>\n",
       "    </tr>\n",
       "    <tr>\n",
       "      <th>98</th>\n",
       "      <td>11</td>\n",
       "      <td>24</td>\n",
       "      <td>2039</td>\n",
       "      <td>222</td>\n",
       "      <td>False</td>\n",
       "      <td>False</td>\n",
       "      <td>False</td>\n",
       "      <td>False</td>\n",
       "      <td>False</td>\n",
       "      <td>False</td>\n",
       "      <td>...</td>\n",
       "      <td>False</td>\n",
       "      <td>False</td>\n",
       "      <td>False</td>\n",
       "      <td>False</td>\n",
       "      <td>True</td>\n",
       "      <td>False</td>\n",
       "      <td>False</td>\n",
       "      <td>False</td>\n",
       "      <td>False</td>\n",
       "      <td>False</td>\n",
       "    </tr>\n",
       "    <tr>\n",
       "      <th>99</th>\n",
       "      <td>12</td>\n",
       "      <td>25</td>\n",
       "      <td>741</td>\n",
       "      <td>109</td>\n",
       "      <td>False</td>\n",
       "      <td>False</td>\n",
       "      <td>False</td>\n",
       "      <td>False</td>\n",
       "      <td>False</td>\n",
       "      <td>False</td>\n",
       "      <td>...</td>\n",
       "      <td>False</td>\n",
       "      <td>False</td>\n",
       "      <td>False</td>\n",
       "      <td>False</td>\n",
       "      <td>True</td>\n",
       "      <td>False</td>\n",
       "      <td>False</td>\n",
       "      <td>False</td>\n",
       "      <td>False</td>\n",
       "      <td>False</td>\n",
       "    </tr>\n",
       "  </tbody>\n",
       "</table>\n",
       "<p>100 rows × 303 columns</p>\n",
       "</div>"
      ],
      "text/plain": [
       "    Unnamed: 0  S.No  Followers  Likes  USERNAME__ehab.othman_   \n",
       "0            0     1       1600    139                   False  \\\n",
       "1            1     2        880     23                   False   \n",
       "2            2     3        255     25                   False   \n",
       "3            3     4        340     49                   False   \n",
       "4            4     5        304     30                   False   \n",
       "..         ...   ...        ...    ...                     ...   \n",
       "95           8    19        614     31                   False   \n",
       "96           9    21        450     42                   False   \n",
       "97          10    22        182     10                   False   \n",
       "98          11    24       2039    222                   False   \n",
       "99          12    25        741    109                   False   \n",
       "\n",
       "    USERNAME__linda_smith567  USERNAME_ah_studio_   \n",
       "0                      False                False  \\\n",
       "1                      False                False   \n",
       "2                      False                False   \n",
       "3                      False                False   \n",
       "4                      False                False   \n",
       "..                       ...                  ...   \n",
       "95                     False                False   \n",
       "96                     False                False   \n",
       "97                     False                False   \n",
       "98                     False                False   \n",
       "99                     False                False   \n",
       "\n",
       "    USERNAME_aitrading_official  USERNAME_ale_borba  USERNAME_alpha_mentor_   \n",
       "0                         False               False                   False  \\\n",
       "1                         False               False                   False   \n",
       "2                          True               False                   False   \n",
       "3                         False               False                   False   \n",
       "4                         False               False                   False   \n",
       "..                          ...                 ...                     ...   \n",
       "95                        False               False                   False   \n",
       "96                        False               False                   False   \n",
       "97                        False               False                   False   \n",
       "98                        False               False                   False   \n",
       "99                        False               False                   False   \n",
       "\n",
       "    ...  Time since posted_14 hours  Time since posted_2 hours   \n",
       "0   ...                       False                      False  \\\n",
       "1   ...                       False                       True   \n",
       "2   ...                       False                       True   \n",
       "3   ...                       False                      False   \n",
       "4   ...                       False                      False   \n",
       "..  ...                         ...                        ...   \n",
       "95  ...                       False                      False   \n",
       "96  ...                       False                      False   \n",
       "97  ...                       False                      False   \n",
       "98  ...                       False                      False   \n",
       "99  ...                       False                      False   \n",
       "\n",
       "    Time since posted_20 hours  Time since posted_24 hours   \n",
       "0                        False                       False  \\\n",
       "1                        False                       False   \n",
       "2                        False                       False   \n",
       "3                        False                       False   \n",
       "4                        False                       False   \n",
       "..                         ...                         ...   \n",
       "95                       False                       False   \n",
       "96                       False                       False   \n",
       "97                       False                       False   \n",
       "98                       False                       False   \n",
       "99                       False                       False   \n",
       "\n",
       "    Time since posted_3 hours  Time since posted_4 hours   \n",
       "0                       False                      False  \\\n",
       "1                       False                      False   \n",
       "2                       False                      False   \n",
       "3                        True                      False   \n",
       "4                        True                      False   \n",
       "..                        ...                        ...   \n",
       "95                       True                      False   \n",
       "96                       True                      False   \n",
       "97                       True                      False   \n",
       "98                       True                      False   \n",
       "99                       True                      False   \n",
       "\n",
       "    Time since posted_5 hours  Time since posted_7 hours   \n",
       "0                       False                      False  \\\n",
       "1                       False                      False   \n",
       "2                       False                      False   \n",
       "3                       False                      False   \n",
       "4                       False                      False   \n",
       "..                        ...                        ...   \n",
       "95                      False                      False   \n",
       "96                      False                      False   \n",
       "97                      False                      False   \n",
       "98                      False                      False   \n",
       "99                      False                      False   \n",
       "\n",
       "    Time since posted_8 hours  Time since posted_9 hours  \n",
       "0                       False                      False  \n",
       "1                       False                      False  \n",
       "2                       False                      False  \n",
       "3                       False                      False  \n",
       "4                       False                      False  \n",
       "..                        ...                        ...  \n",
       "95                      False                      False  \n",
       "96                      False                      False  \n",
       "97                      False                      False  \n",
       "98                      False                      False  \n",
       "99                      False                      False  \n",
       "\n",
       "[100 rows x 303 columns]"
      ]
     },
     "execution_count": 24,
     "metadata": {},
     "output_type": "execute_result"
    }
   ],
   "source": [
    "df"
   ]
  },
  {
   "cell_type": "code",
   "execution_count": 16,
   "metadata": {},
   "outputs": [],
   "source": [
    "from sklearn.model_selection import train_test_split\n",
    "x_train,x_test,y_train,y_test=train_test_split(x,y,test_size=0.3,random_state=42)"
   ]
  },
  {
   "cell_type": "code",
   "execution_count": 17,
   "metadata": {},
   "outputs": [
    {
     "data": {
      "text/html": [
       "<style>#sk-container-id-1 {color: black;background-color: white;}#sk-container-id-1 pre{padding: 0;}#sk-container-id-1 div.sk-toggleable {background-color: white;}#sk-container-id-1 label.sk-toggleable__label {cursor: pointer;display: block;width: 100%;margin-bottom: 0;padding: 0.3em;box-sizing: border-box;text-align: center;}#sk-container-id-1 label.sk-toggleable__label-arrow:before {content: \"▸\";float: left;margin-right: 0.25em;color: #696969;}#sk-container-id-1 label.sk-toggleable__label-arrow:hover:before {color: black;}#sk-container-id-1 div.sk-estimator:hover label.sk-toggleable__label-arrow:before {color: black;}#sk-container-id-1 div.sk-toggleable__content {max-height: 0;max-width: 0;overflow: hidden;text-align: left;background-color: #f0f8ff;}#sk-container-id-1 div.sk-toggleable__content pre {margin: 0.2em;color: black;border-radius: 0.25em;background-color: #f0f8ff;}#sk-container-id-1 input.sk-toggleable__control:checked~div.sk-toggleable__content {max-height: 200px;max-width: 100%;overflow: auto;}#sk-container-id-1 input.sk-toggleable__control:checked~label.sk-toggleable__label-arrow:before {content: \"▾\";}#sk-container-id-1 div.sk-estimator input.sk-toggleable__control:checked~label.sk-toggleable__label {background-color: #d4ebff;}#sk-container-id-1 div.sk-label input.sk-toggleable__control:checked~label.sk-toggleable__label {background-color: #d4ebff;}#sk-container-id-1 input.sk-hidden--visually {border: 0;clip: rect(1px 1px 1px 1px);clip: rect(1px, 1px, 1px, 1px);height: 1px;margin: -1px;overflow: hidden;padding: 0;position: absolute;width: 1px;}#sk-container-id-1 div.sk-estimator {font-family: monospace;background-color: #f0f8ff;border: 1px dotted black;border-radius: 0.25em;box-sizing: border-box;margin-bottom: 0.5em;}#sk-container-id-1 div.sk-estimator:hover {background-color: #d4ebff;}#sk-container-id-1 div.sk-parallel-item::after {content: \"\";width: 100%;border-bottom: 1px solid gray;flex-grow: 1;}#sk-container-id-1 div.sk-label:hover label.sk-toggleable__label {background-color: #d4ebff;}#sk-container-id-1 div.sk-serial::before {content: \"\";position: absolute;border-left: 1px solid gray;box-sizing: border-box;top: 0;bottom: 0;left: 50%;z-index: 0;}#sk-container-id-1 div.sk-serial {display: flex;flex-direction: column;align-items: center;background-color: white;padding-right: 0.2em;padding-left: 0.2em;position: relative;}#sk-container-id-1 div.sk-item {position: relative;z-index: 1;}#sk-container-id-1 div.sk-parallel {display: flex;align-items: stretch;justify-content: center;background-color: white;position: relative;}#sk-container-id-1 div.sk-item::before, #sk-container-id-1 div.sk-parallel-item::before {content: \"\";position: absolute;border-left: 1px solid gray;box-sizing: border-box;top: 0;bottom: 0;left: 50%;z-index: -1;}#sk-container-id-1 div.sk-parallel-item {display: flex;flex-direction: column;z-index: 1;position: relative;background-color: white;}#sk-container-id-1 div.sk-parallel-item:first-child::after {align-self: flex-end;width: 50%;}#sk-container-id-1 div.sk-parallel-item:last-child::after {align-self: flex-start;width: 50%;}#sk-container-id-1 div.sk-parallel-item:only-child::after {width: 0;}#sk-container-id-1 div.sk-dashed-wrapped {border: 1px dashed gray;margin: 0 0.4em 0.5em 0.4em;box-sizing: border-box;padding-bottom: 0.4em;background-color: white;}#sk-container-id-1 div.sk-label label {font-family: monospace;font-weight: bold;display: inline-block;line-height: 1.2em;}#sk-container-id-1 div.sk-label-container {text-align: center;}#sk-container-id-1 div.sk-container {/* jupyter's `normalize.less` sets `[hidden] { display: none; }` but bootstrap.min.css set `[hidden] { display: none !important; }` so we also need the `!important` here to be able to override the default hidden behavior on the sphinx rendered scikit-learn.org. See: https://github.com/scikit-learn/scikit-learn/issues/21755 */display: inline-block !important;position: relative;}#sk-container-id-1 div.sk-text-repr-fallback {display: none;}</style><div id=\"sk-container-id-1\" class=\"sk-top-container\"><div class=\"sk-text-repr-fallback\"><pre>LinearRegression()</pre><b>In a Jupyter environment, please rerun this cell to show the HTML representation or trust the notebook. <br />On GitHub, the HTML representation is unable to render, please try loading this page with nbviewer.org.</b></div><div class=\"sk-container\" hidden><div class=\"sk-item\"><div class=\"sk-estimator sk-toggleable\"><input class=\"sk-toggleable__control sk-hidden--visually\" id=\"sk-estimator-id-1\" type=\"checkbox\" checked><label for=\"sk-estimator-id-1\" class=\"sk-toggleable__label sk-toggleable__label-arrow\">LinearRegression</label><div class=\"sk-toggleable__content\"><pre>LinearRegression()</pre></div></div></div></div></div>"
      ],
      "text/plain": [
       "LinearRegression()"
      ]
     },
     "execution_count": 17,
     "metadata": {},
     "output_type": "execute_result"
    }
   ],
   "source": [
    "from sklearn.linear_model import LinearRegression\n",
    "lin_model=LinearRegression()\n",
    "lin_model.fit(x_train,y_train)"
   ]
  },
  {
   "cell_type": "code",
   "execution_count": 18,
   "metadata": {},
   "outputs": [
    {
     "data": {
      "text/plain": [
       "array([-4.14269163e-05,  2.94299212e-05,  1.40319628e-07,  9.99980437e-01,\n",
       "       -9.69834788e-05, -9.89134817e-05,  4.99226833e-05, -2.26020438e-05,\n",
       "        2.47333803e-05, -1.42253479e-04,  8.67361738e-18,  1.37506591e-04,\n",
       "       -1.72561614e-04, -1.72740983e-04, -1.73472348e-18,  2.51078820e-04,\n",
       "        2.02901825e-04,  6.50521303e-19, -1.66260509e-04, -1.33756044e-04,\n",
       "       -9.63175499e-05,  3.25260652e-19,  3.13781050e-04, -1.90703965e-04,\n",
       "       -2.16840434e-19, -1.76698657e-04,  2.16840434e-19,  0.00000000e+00,\n",
       "       -9.14788483e-05, -6.50521303e-19, -5.77062465e-05,  2.16840434e-19,\n",
       "        1.08420217e-19, -6.88763064e-05, -5.42101086e-20, -2.57278164e-04,\n",
       "       -8.76720755e-05, -7.91309833e-05,  1.08420217e-19, -6.22485276e-05,\n",
       "       -1.04807791e-04,  0.00000000e+00,  1.08420217e-19, -5.42101086e-20,\n",
       "        4.33680869e-19,  1.52766862e-03, -4.33680869e-19, -5.60763489e-05,\n",
       "       -2.33159030e-05, -2.60371070e-04, -5.17490406e-05, -1.38859405e-04,\n",
       "       -2.29097485e-04, -9.48676901e-20, -2.27473754e-04, -8.03835421e-05,\n",
       "       -8.13151629e-20, -5.42101086e-20,  2.42119515e-04,  1.03250588e-03,\n",
       "       -5.94088106e-06, -1.37267859e-04, -1.08420217e-19, -1.72892842e-04,\n",
       "       -2.21646518e-04,  2.50894436e-05,  4.06575815e-20, -1.38731127e-04,\n",
       "       -3.39996820e-04, -2.00205216e-04,  0.00000000e+00,  0.00000000e+00,\n",
       "       -1.62052070e-04, -2.13743308e-04,  0.00000000e+00, -5.51416651e-05,\n",
       "        6.16959391e-04,  3.60343040e-04, -1.01858502e-04, -3.70101782e-05,\n",
       "       -1.61950291e-04,  1.32170895e-04,  4.42712145e-04,  2.55573610e-05,\n",
       "       -1.95112948e-04, -6.88348748e-05, -1.59067478e-04,  0.00000000e+00,\n",
       "        6.87915364e-04,  5.57656911e-07,  0.00000000e+00, -7.85233200e-05,\n",
       "        3.67878116e-04, -2.23911036e-04,  0.00000000e+00, -1.21063091e-04,\n",
       "       -1.34197038e-04, -1.47065310e-04, -1.88721041e-05, -3.63064493e-04,\n",
       "       -9.69834788e-05, -1.47065310e-04,  0.00000000e+00, -1.90703965e-04,\n",
       "        0.00000000e+00, -6.22485276e-05, -1.38731127e-04,  0.00000000e+00,\n",
       "       -1.33756044e-04, -2.46853745e-04, -9.31430750e-05, -2.21646518e-04,\n",
       "       -1.72892842e-04, -2.26020438e-05, -9.14788483e-05,  0.00000000e+00,\n",
       "       -5.60763489e-05, -1.37267859e-04,  3.13781050e-04, -2.27473754e-04,\n",
       "        0.00000000e+00,  0.00000000e+00, -5.94088106e-06, -9.80333518e-05,\n",
       "        0.00000000e+00, -1.66260509e-04,  2.50894436e-05, -1.72740983e-04,\n",
       "       -1.42253479e-04,  0.00000000e+00,  0.00000000e+00, -1.62052070e-04,\n",
       "       -7.91309833e-05,  6.16959391e-04, -2.33159030e-05,  0.00000000e+00,\n",
       "        4.99226833e-05,  0.00000000e+00, -1.04807791e-04, -9.89134817e-05,\n",
       "        2.42119515e-04,  0.00000000e+00,  0.00000000e+00,  0.00000000e+00,\n",
       "       -7.85233200e-05, -2.23911036e-04,  3.67878116e-04, -5.77062465e-05,\n",
       "        6.10231736e-05,  0.00000000e+00,  0.00000000e+00,  0.00000000e+00,\n",
       "        1.32170895e-04,  5.57656911e-07,  0.00000000e+00,  2.47333803e-05,\n",
       "       -1.59067478e-04,  6.87915364e-04,  0.00000000e+00, -2.13743308e-04,\n",
       "       -8.03835421e-05, -1.34197038e-04,  3.60343040e-04, -1.95112948e-04,\n",
       "        0.00000000e+00, -2.29097485e-04,  4.42712145e-04, -1.76698657e-04,\n",
       "       -9.63175499e-05, -2.60371070e-04,  0.00000000e+00,  0.00000000e+00,\n",
       "        2.02901825e-04, -8.76720755e-05,  0.00000000e+00, -1.01858502e-04,\n",
       "       -1.88721041e-05,  0.00000000e+00, -1.21063091e-04,  0.00000000e+00,\n",
       "       -6.88348748e-05,  0.00000000e+00, -6.88763064e-05, -2.57278164e-04,\n",
       "        2.51078820e-04,  1.03250588e-03,  0.00000000e+00, -1.72561614e-04,\n",
       "        1.52766862e-03,  1.31922159e-04, -5.17490406e-05,  0.00000000e+00,\n",
       "        0.00000000e+00, -1.61950291e-04, -1.21063091e-04, -8.03835421e-05,\n",
       "       -1.62052070e-04,  0.00000000e+00, -1.88721041e-05, -3.70101782e-05,\n",
       "       -3.39996820e-04,  1.37506591e-04, -7.91309833e-05, -1.59067478e-04,\n",
       "       -1.87063824e-04, -1.38859405e-04, -2.27473754e-04, -6.88348748e-05,\n",
       "       -2.29097485e-04, -1.72561614e-04, -1.04807791e-04,  0.00000000e+00,\n",
       "        0.00000000e+00,  2.47333803e-05,  0.00000000e+00, -8.76720755e-05,\n",
       "       -1.95112948e-04, -9.14788483e-05, -1.33756044e-04,  0.00000000e+00,\n",
       "        2.02901825e-04,  0.00000000e+00,  0.00000000e+00, -1.38731127e-04,\n",
       "       -9.63175499e-05,  0.00000000e+00, -1.37267859e-04,  3.13781050e-04,\n",
       "       -1.72740983e-04, -2.23911036e-04, -2.57278164e-04,  2.50894436e-05,\n",
       "        0.00000000e+00,  0.00000000e+00,  0.00000000e+00,  0.00000000e+00,\n",
       "       -1.76698657e-04, -5.77062465e-05,  2.42119515e-04,  6.16959391e-04,\n",
       "        5.57656911e-07,  0.00000000e+00,  1.32170895e-04, -5.60763489e-05,\n",
       "        0.00000000e+00, -1.66260509e-04,  0.00000000e+00,  2.55573610e-05,\n",
       "        0.00000000e+00,  0.00000000e+00,  0.00000000e+00, -1.34197038e-04,\n",
       "        0.00000000e+00, -2.13743308e-04,  0.00000000e+00,  4.99226833e-05,\n",
       "        1.03250588e-03, -1.61950291e-04,  0.00000000e+00,  1.31922159e-04,\n",
       "       -2.60371070e-04, -2.21646518e-04,  3.60343040e-04, -1.42253479e-04,\n",
       "       -1.72892842e-04, -1.47065310e-04,  0.00000000e+00, -1.01858502e-04,\n",
       "       -2.33159030e-05,  0.00000000e+00,  2.51078820e-04,  4.42712145e-04,\n",
       "       -5.17490406e-05,  0.00000000e+00, -6.22485276e-05, -1.90703965e-04,\n",
       "        0.00000000e+00,  3.67878116e-04,  0.00000000e+00,  0.00000000e+00,\n",
       "        0.00000000e+00, -2.26020438e-05,  0.00000000e+00, -9.69834788e-05,\n",
       "        1.52766862e-03, -9.89134817e-05, -5.94088106e-06,  0.00000000e+00,\n",
       "       -2.00205216e-04, -7.85233200e-05,  6.87915364e-04, -6.88763064e-05,\n",
       "        2.02901825e-04,  0.00000000e+00, -5.33962581e-04,  3.67878116e-04,\n",
       "        0.00000000e+00, -3.40889245e-04, -2.40095056e-04,  6.87915364e-04,\n",
       "       -5.60763489e-05, -8.76720755e-05])"
      ]
     },
     "execution_count": 18,
     "metadata": {},
     "output_type": "execute_result"
    }
   ],
   "source": [
    "lin_model.coef_"
   ]
  },
  {
   "cell_type": "code",
   "execution_count": 19,
   "metadata": {},
   "outputs": [],
   "source": [
    "y_pred=lin_model.predict(x_test)"
   ]
  },
  {
   "cell_type": "code",
   "execution_count": 20,
   "metadata": {},
   "outputs": [],
   "source": [
    "from sklearn.metrics import r2_score,mean_absolute_error,mean_squared_error"
   ]
  },
  {
   "cell_type": "code",
   "execution_count": 21,
   "metadata": {},
   "outputs": [
    {
     "data": {
      "text/plain": [
       "0.9999999997013053"
      ]
     },
     "execution_count": 21,
     "metadata": {},
     "output_type": "execute_result"
    }
   ],
   "source": [
    "r2_score(y_test,y_pred)"
   ]
  },
  {
   "cell_type": "code",
   "execution_count": 22,
   "metadata": {},
   "outputs": [
    {
     "data": {
      "text/plain": [
       "0.0005745894018255981"
      ]
     },
     "execution_count": 22,
     "metadata": {},
     "output_type": "execute_result"
    }
   ],
   "source": [
    "mean_absolute_error(y_test,y_pred)"
   ]
  },
  {
   "cell_type": "code",
   "execution_count": 27,
   "metadata": {},
   "outputs": [],
   "source": [
    "from sklearn.model_selection import train_test_split\n",
    "x1_train,x1_test,y1_train,y1_test=train_test_split(x1,y1,test_size=0.3,random_state=42)"
   ]
  },
  {
   "cell_type": "code",
   "execution_count": 28,
   "metadata": {},
   "outputs": [
    {
     "data": {
      "text/html": [
       "<style>#sk-container-id-2 {color: black;background-color: white;}#sk-container-id-2 pre{padding: 0;}#sk-container-id-2 div.sk-toggleable {background-color: white;}#sk-container-id-2 label.sk-toggleable__label {cursor: pointer;display: block;width: 100%;margin-bottom: 0;padding: 0.3em;box-sizing: border-box;text-align: center;}#sk-container-id-2 label.sk-toggleable__label-arrow:before {content: \"▸\";float: left;margin-right: 0.25em;color: #696969;}#sk-container-id-2 label.sk-toggleable__label-arrow:hover:before {color: black;}#sk-container-id-2 div.sk-estimator:hover label.sk-toggleable__label-arrow:before {color: black;}#sk-container-id-2 div.sk-toggleable__content {max-height: 0;max-width: 0;overflow: hidden;text-align: left;background-color: #f0f8ff;}#sk-container-id-2 div.sk-toggleable__content pre {margin: 0.2em;color: black;border-radius: 0.25em;background-color: #f0f8ff;}#sk-container-id-2 input.sk-toggleable__control:checked~div.sk-toggleable__content {max-height: 200px;max-width: 100%;overflow: auto;}#sk-container-id-2 input.sk-toggleable__control:checked~label.sk-toggleable__label-arrow:before {content: \"▾\";}#sk-container-id-2 div.sk-estimator input.sk-toggleable__control:checked~label.sk-toggleable__label {background-color: #d4ebff;}#sk-container-id-2 div.sk-label input.sk-toggleable__control:checked~label.sk-toggleable__label {background-color: #d4ebff;}#sk-container-id-2 input.sk-hidden--visually {border: 0;clip: rect(1px 1px 1px 1px);clip: rect(1px, 1px, 1px, 1px);height: 1px;margin: -1px;overflow: hidden;padding: 0;position: absolute;width: 1px;}#sk-container-id-2 div.sk-estimator {font-family: monospace;background-color: #f0f8ff;border: 1px dotted black;border-radius: 0.25em;box-sizing: border-box;margin-bottom: 0.5em;}#sk-container-id-2 div.sk-estimator:hover {background-color: #d4ebff;}#sk-container-id-2 div.sk-parallel-item::after {content: \"\";width: 100%;border-bottom: 1px solid gray;flex-grow: 1;}#sk-container-id-2 div.sk-label:hover label.sk-toggleable__label {background-color: #d4ebff;}#sk-container-id-2 div.sk-serial::before {content: \"\";position: absolute;border-left: 1px solid gray;box-sizing: border-box;top: 0;bottom: 0;left: 50%;z-index: 0;}#sk-container-id-2 div.sk-serial {display: flex;flex-direction: column;align-items: center;background-color: white;padding-right: 0.2em;padding-left: 0.2em;position: relative;}#sk-container-id-2 div.sk-item {position: relative;z-index: 1;}#sk-container-id-2 div.sk-parallel {display: flex;align-items: stretch;justify-content: center;background-color: white;position: relative;}#sk-container-id-2 div.sk-item::before, #sk-container-id-2 div.sk-parallel-item::before {content: \"\";position: absolute;border-left: 1px solid gray;box-sizing: border-box;top: 0;bottom: 0;left: 50%;z-index: -1;}#sk-container-id-2 div.sk-parallel-item {display: flex;flex-direction: column;z-index: 1;position: relative;background-color: white;}#sk-container-id-2 div.sk-parallel-item:first-child::after {align-self: flex-end;width: 50%;}#sk-container-id-2 div.sk-parallel-item:last-child::after {align-self: flex-start;width: 50%;}#sk-container-id-2 div.sk-parallel-item:only-child::after {width: 0;}#sk-container-id-2 div.sk-dashed-wrapped {border: 1px dashed gray;margin: 0 0.4em 0.5em 0.4em;box-sizing: border-box;padding-bottom: 0.4em;background-color: white;}#sk-container-id-2 div.sk-label label {font-family: monospace;font-weight: bold;display: inline-block;line-height: 1.2em;}#sk-container-id-2 div.sk-label-container {text-align: center;}#sk-container-id-2 div.sk-container {/* jupyter's `normalize.less` sets `[hidden] { display: none; }` but bootstrap.min.css set `[hidden] { display: none !important; }` so we also need the `!important` here to be able to override the default hidden behavior on the sphinx rendered scikit-learn.org. See: https://github.com/scikit-learn/scikit-learn/issues/21755 */display: inline-block !important;position: relative;}#sk-container-id-2 div.sk-text-repr-fallback {display: none;}</style><div id=\"sk-container-id-2\" class=\"sk-top-container\"><div class=\"sk-text-repr-fallback\"><pre>LinearRegression()</pre><b>In a Jupyter environment, please rerun this cell to show the HTML representation or trust the notebook. <br />On GitHub, the HTML representation is unable to render, please try loading this page with nbviewer.org.</b></div><div class=\"sk-container\" hidden><div class=\"sk-item\"><div class=\"sk-estimator sk-toggleable\"><input class=\"sk-toggleable__control sk-hidden--visually\" id=\"sk-estimator-id-2\" type=\"checkbox\" checked><label for=\"sk-estimator-id-2\" class=\"sk-toggleable__label sk-toggleable__label-arrow\">LinearRegression</label><div class=\"sk-toggleable__content\"><pre>LinearRegression()</pre></div></div></div></div></div>"
      ],
      "text/plain": [
       "LinearRegression()"
      ]
     },
     "execution_count": 28,
     "metadata": {},
     "output_type": "execute_result"
    }
   ],
   "source": [
    "lin_model1=LinearRegression()\n",
    "lin_model1.fit(x1_train,y1_train)"
   ]
  },
  {
   "cell_type": "code",
   "execution_count": 30,
   "metadata": {},
   "outputs": [],
   "source": [
    "y1_pred=lin_model1.predict(x1_test)"
   ]
  },
  {
   "cell_type": "code",
   "execution_count": 31,
   "metadata": {},
   "outputs": [
    {
     "data": {
      "text/plain": [
       "0.21953012981493958"
      ]
     },
     "execution_count": 31,
     "metadata": {},
     "output_type": "execute_result"
    }
   ],
   "source": [
    "r2_score(y1_test,y1_pred)"
   ]
  },
  {
   "cell_type": "code",
   "execution_count": null,
   "metadata": {},
   "outputs": [],
   "source": []
  }
 ],
 "metadata": {
  "kernelspec": {
   "display_name": "Python 3",
   "language": "python",
   "name": "python3"
  },
  "language_info": {
   "codemirror_mode": {
    "name": "ipython",
    "version": 3
   },
   "file_extension": ".py",
   "mimetype": "text/x-python",
   "name": "python",
   "nbconvert_exporter": "python",
   "pygments_lexer": "ipython3",
   "version": "3.10.11"
  },
  "orig_nbformat": 4
 },
 "nbformat": 4,
 "nbformat_minor": 2
}
