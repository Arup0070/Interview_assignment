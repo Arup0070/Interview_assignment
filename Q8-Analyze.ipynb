{
 "cells": [
  {
   "cell_type": "code",
   "execution_count": 10,
   "metadata": {},
   "outputs": [],
   "source": [
    "import pandas as pd\n",
    "import seaborn as sns\n",
    "import matplotlib.pyplot as plt"
   ]
  },
  {
   "cell_type": "code",
   "execution_count": 4,
   "metadata": {},
   "outputs": [],
   "source": [
    "df=pd.read_csv(\"Cleaned_data.csv\")"
   ]
  },
  {
   "cell_type": "code",
   "execution_count": 5,
   "metadata": {},
   "outputs": [
    {
     "ename": "SyntaxError",
     "evalue": "invalid character '●' (U+25CF) (3760017834.py, line 1)",
     "output_type": "error",
     "traceback": [
      "\u001b[1;36m  Cell \u001b[1;32mIn[5], line 1\u001b[1;36m\u001b[0m\n\u001b[1;33m    ● Get all the overall ratings for each season and using plots compare the ratings for all the\u001b[0m\n\u001b[1;37m    ^\u001b[0m\n\u001b[1;31mSyntaxError\u001b[0m\u001b[1;31m:\u001b[0m invalid character '●' (U+25CF)\n"
     ]
    }
   ],
   "source": [
    "● Get all the overall ratings for each season and using plots compare the ratings for all the\n",
    "seasons, like season 1 ratings, season 2, and so on.\n",
    "● Get all the episode names, whose average rating is more than 8 for every season\n",
    "● Get all the episode names that aired before May 2019\n",
    "● Get the episode name from each season with the highest and lowest rating\n",
    "● Get the summary for the most popular ( ratings ) episode in every season\n"
   ]
  },
  {
   "cell_type": "code",
   "execution_count": 8,
   "metadata": {},
   "outputs": [
    {
     "data": {
      "text/html": [
       "<div>\n",
       "<style scoped>\n",
       "    .dataframe tbody tr th:only-of-type {\n",
       "        vertical-align: middle;\n",
       "    }\n",
       "\n",
       "    .dataframe tbody tr th {\n",
       "        vertical-align: top;\n",
       "    }\n",
       "\n",
       "    .dataframe thead th {\n",
       "        text-align: right;\n",
       "    }\n",
       "</style>\n",
       "<table border=\"1\" class=\"dataframe\">\n",
       "  <thead>\n",
       "    <tr style=\"text-align: right;\">\n",
       "      <th></th>\n",
       "      <th>id</th>\n",
       "      <th>url</th>\n",
       "      <th>name</th>\n",
       "      <th>season</th>\n",
       "      <th>number</th>\n",
       "      <th>type</th>\n",
       "      <th>airdate</th>\n",
       "      <th>airtime</th>\n",
       "      <th>runtime</th>\n",
       "      <th>summary</th>\n",
       "      <th>average rating</th>\n",
       "      <th>medium image link</th>\n",
       "      <th>Original image link</th>\n",
       "    </tr>\n",
       "  </thead>\n",
       "  <tbody>\n",
       "    <tr>\n",
       "      <th>0</th>\n",
       "      <td>869671</td>\n",
       "      <td>https://www.tvmaze.com/episodes/869671/westwor...</td>\n",
       "      <td>The Original</td>\n",
       "      <td>1</td>\n",
       "      <td>1</td>\n",
       "      <td>regular</td>\n",
       "      <td>2016-10-02</td>\n",
       "      <td>09:00PM</td>\n",
       "      <td>68.0</td>\n",
       "      <td>A woman named Dolores is a free spirit in the ...</td>\n",
       "      <td>8.0</td>\n",
       "      <td>https://static.tvmaze.com/uploads/images/mediu...</td>\n",
       "      <td>https://static.tvmaze.com/uploads/images/origi...</td>\n",
       "    </tr>\n",
       "  </tbody>\n",
       "</table>\n",
       "</div>"
      ],
      "text/plain": [
       "       id                                                url          name   \n",
       "0  869671  https://www.tvmaze.com/episodes/869671/westwor...  The Original  \\\n",
       "\n",
       "   season  number     type     airdate  airtime  runtime   \n",
       "0       1       1  regular  2016-10-02  09:00PM     68.0  \\\n",
       "\n",
       "                                             summary  average rating   \n",
       "0  A woman named Dolores is a free spirit in the ...             8.0  \\\n",
       "\n",
       "                                   medium image link   \n",
       "0  https://static.tvmaze.com/uploads/images/mediu...  \\\n",
       "\n",
       "                                 Original image link  \n",
       "0  https://static.tvmaze.com/uploads/images/origi...  "
      ]
     },
     "execution_count": 8,
     "metadata": {},
     "output_type": "execute_result"
    }
   ],
   "source": [
    "df.head(1)"
   ]
  },
  {
   "cell_type": "code",
   "execution_count": 19,
   "metadata": {},
   "outputs": [
    {
     "data": {
      "image/png": "[encoded data removed]",
      "text/plain": [
       "<Figure size 500x500 with 1 Axes>"
      ]
     },
     "metadata": {},
     "output_type": "display_data"
    }
   ],
   "source": [
    "#all the overall ratings for each season and using plots compare the ratings for all the seasons, like season 1 ratings, season 2, and so on.\n",
    "plt.figure(figsize=(5,5))\n",
    "sns.barplot(data=df,x=\"season\",y=\"average rating\")\n",
    "plt.tight_layout()"
   ]
  },
  {
   "cell_type": "code",
   "execution_count": 30,
   "metadata": {},
   "outputs": [
    {
     "data": {
      "text/html": [
       "<div>\n",
       "<style scoped>\n",
       "    .dataframe tbody tr th:only-of-type {\n",
       "        vertical-align: middle;\n",
       "    }\n",
       "\n",
       "    .dataframe tbody tr th {\n",
       "        vertical-align: top;\n",
       "    }\n",
       "\n",
       "    .dataframe thead th {\n",
       "        text-align: right;\n",
       "    }\n",
       "</style>\n",
       "<table border=\"1\" class=\"dataframe\">\n",
       "  <thead>\n",
       "    <tr style=\"text-align: right;\">\n",
       "      <th>season</th>\n",
       "      <th>1</th>\n",
       "      <th>2</th>\n",
       "    </tr>\n",
       "    <tr>\n",
       "      <th>average rating</th>\n",
       "      <th></th>\n",
       "      <th></th>\n",
       "    </tr>\n",
       "  </thead>\n",
       "  <tbody>\n",
       "    <tr>\n",
       "      <th>8.4</th>\n",
       "      <td>NaN</td>\n",
       "      <td>Vanishing Point</td>\n",
       "    </tr>\n",
       "    <tr>\n",
       "      <th>8.5</th>\n",
       "      <td>The Well-Tempered Clavier</td>\n",
       "      <td>The Passenger</td>\n",
       "    </tr>\n",
       "    <tr>\n",
       "      <th>8.6</th>\n",
       "      <td>Trompe L'Oeil</td>\n",
       "      <td>NaN</td>\n",
       "    </tr>\n",
       "    <tr>\n",
       "      <th>8.7</th>\n",
       "      <td>The Bicameral Mind</td>\n",
       "      <td>Kiksuya</td>\n",
       "    </tr>\n",
       "  </tbody>\n",
       "</table>\n",
       "</div>"
      ],
      "text/plain": [
       "season                                  1                2\n",
       "average rating                                            \n",
       "8.4                                   NaN  Vanishing Point\n",
       "8.5             The Well-Tempered Clavier    The Passenger\n",
       "8.6                         Trompe L'Oeil              NaN\n",
       "8.7                    The Bicameral Mind          Kiksuya"
      ]
     },
     "execution_count": 30,
     "metadata": {},
     "output_type": "execute_result"
    }
   ],
   "source": [
    "#all the episode names, whose average rating is more than 8 for every season\n",
    "df[df[\"average rating\"] > 8].pivot(index=\"average rating\",columns=[\"season\"],values=\"name\") # only seasone 1 and two has episode ratings more then 8"
   ]
  },
  {
   "cell_type": "code",
   "execution_count": 36,
   "metadata": {},
   "outputs": [],
   "source": [
    "df.airdate=df.airdate.astype(\"datetime64[ns]\")"
   ]
  },
  {
   "cell_type": "code",
   "execution_count": 144,
   "metadata": {},
   "outputs": [
    {
     "data": {
      "text/plain": [
       "array(['The Original', 'Chestnut', 'The Stray', 'Dissonance Theory',\n",
       "       'Contrapasso', 'The Adversary', \"Trompe L'Oeil\", 'Trace Decay',\n",
       "       'The Well-Tempered Clavier', 'The Bicameral Mind',\n",
       "       'Journey Into Night', 'Reunion', 'Virtù e Fortuna',\n",
       "       'The Riddle of the Sphinx', 'Akane No Mai', 'Phase Space',\n",
       "       'Les Écorchés', 'Kiksuya', 'Vanishing Point', 'The Passenger'],\n",
       "      dtype=object)"
      ]
     },
     "execution_count": 144,
     "metadata": {},
     "output_type": "execute_result"
    }
   ],
   "source": [
    "# all the episode names that aired before May 2019\n",
    "from datetime import date,timedelta\n",
    "da=date(2019,5,1)\n",
    "df[df.airdate.apply(lambda X: X< pd.Timestamp(da))].name.values"
   ]
  },
  {
   "cell_type": "code",
   "execution_count": 137,
   "metadata": {},
   "outputs": [
    {
     "name": "stdout",
     "output_type": "stream",
     "text": [
      "From seasone 1 with max  rating 8.7 movie name ['The Bicameral Mind']\n",
      "\n",
      "From seasone 1 with minimum  rating 7.6 movie name ['The Stray']\n",
      "\n",
      "From seasone 2 with max  rating 8.7 movie name ['Kiksuya']\n",
      "\n",
      "From seasone 2 with minimum  rating 7.6 movie name ['Akane No Mai']\n",
      "\n",
      "From seasone 3 with max  rating 8.0 movie name ['Parce Domine', 'The Mother of Exiles']\n",
      "\n",
      "From seasone 3 with minimum  rating 7.5 movie name ['Decoherence', 'Passed Pawn']\n",
      "\n",
      "From seasone 4 with max  rating 7.8 movie name ['Zhuangzi']\n",
      "\n",
      "From seasone 4 with minimum  rating 7.1 movie name ['The Auguries']\n",
      "\n"
     ]
    }
   ],
   "source": [
    "# Get the episode name from each season with the highest and lowest rating\n",
    "for i in range(0,4):\n",
    "    for j in range(0,2):\n",
    "        b= df.groupby(\"season\")[\"average rating\"].agg([\"max\",\"min\"]).values[i,j]\n",
    "        a=list(df[(df.season==i+1) & (df[\"average rating\"] == b)].name)\n",
    "        if j == 0:\n",
    "            print(f\"From seasone {i+1} with max  rating {b} movie name {a}\\n\")\n",
    "        else:\n",
    "            print(f\"From seasone {i+1} with minimum  rating {b} movie name {a}\\n\")\n",
    "\n",
    "\n",
    "    \n",
    "\n"
   ]
  },
  {
   "cell_type": "code",
   "execution_count": 143,
   "metadata": {},
   "outputs": [
    {
     "name": "stdout",
     "output_type": "stream",
     "text": [
      "From seasone 1 with max rating 8.7 movie summary [\"Delores finds out the truth about William's fate. Meanwhile, Maeve organizes an escape plan, only to discover that someone else is pulling the strings. And Robert plays the final piece in his grand narrative.\"]\n",
      "\n",
      "From seasone 2 with max rating 8.7 movie summary [\"Another of Westworld's Host revolutionaries is revealed. Meanwhile, Emily finds the Man and convinces the Ghost Nation to hand him over to her to ensure his suffering.\"]\n",
      "\n",
      "From seasone 3 with max rating 8.0 movie summary [\"If you're stuck in a loop, try walking in a straight line.\"\n",
      " \"The truth doesn't always set you free.\"]\n",
      "\n",
      "From seasone 4 with max rating 7.8 movie summary ['God is bored.']\n",
      "\n"
     ]
    }
   ],
   "source": [
    "#Get the summary for the most popular ( ratings ) episode in every season\n",
    "for i in range(0,4):\n",
    "        b= df.groupby(\"season\")[\"average rating\"].agg(\"max\").values[i]\n",
    "        a=df[(df.season==i+1) & (df[\"average rating\"] == b)].summary.values\n",
    "        print(f\"From seasone {i+1} with max rating {b} movie summary {a}\\n\")\n"
   ]
  },
  {
   "cell_type": "code",
   "execution_count": null,
   "metadata": {},
   "outputs": [],
   "source": []
  }
 ],
 "metadata": {
  "kernelspec": {
   "display_name": "Python 3",
   "language": "python",
   "name": "python3"
  },
  "language_info": {
   "codemirror_mode": {
    "name": "ipython",
    "version": 3
   },
   "file_extension": ".py",
   "mimetype": "text/x-python",
   "name": "python",
   "nbconvert_exporter": "python",
   "pygments_lexer": "ipython3",
   "version": "3.10.11"
  },
  "orig_nbformat": 4
 },
 "nbformat": 4,
 "nbformat_minor": 2
}
