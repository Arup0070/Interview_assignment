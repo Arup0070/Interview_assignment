{
 "cells": [
  {
   "cell_type": "code",
   "execution_count": 19,
   "metadata": {},
   "outputs": [],
   "source": [
    "import nltk"
   ]
  },
  {
   "cell_type": "code",
   "execution_count": 18,
   "metadata": {},
   "outputs": [
    {
     "name": "stdout",
     "output_type": "stream",
     "text": [
      "showing info https://raw.githubusercontent.com/nltk/nltk_data/gh-pages/index.xml\n"
     ]
    },
    {
     "data": {
      "text/plain": [
       "True"
      ]
     },
     "execution_count": 18,
     "metadata": {},
     "output_type": "execute_result"
    }
   ],
   "source": [
    "nltk.download()"
   ]
  },
  {
   "cell_type": "code",
   "execution_count": 20,
   "metadata": {},
   "outputs": [
    {
     "name": "stdout",
     "output_type": "stream",
     "text": [
      "MD: modal auxiliary\n",
      "    can cannot could couldn't dare may might must need ought shall should\n",
      "    shouldn't will would\n"
     ]
    }
   ],
   "source": [
    "nltk.help.upenn_tagset(\"MD\")\n",
    "\n"
   ]
  },
  {
   "cell_type": "code",
   "execution_count": 51,
   "metadata": {},
   "outputs": [],
   "source": [
    "text_tag=\"Data science is the study of data to extract meaningful insights for business. It is a multidisciplinary approach that combines principles and practices from the fields of mathematics, statistics, artificial intelligence, and computer engineering to analyze large amounts of data.\"\n",
    "text_2=\"Machine Learning is an AI technique that teaches computers to learn from experience. Machine learning algorithms use computational methods to “learn” information directly from data without relying on a predetermined equation as a model.\""
   ]
  },
  {
   "cell_type": "code",
   "execution_count": 52,
   "metadata": {},
   "outputs": [],
   "source": [
    "#nltk.help.upenn_tagset(\"MD\")\n",
    "words=nltk.word_tokenize(text_tag)\n",
    "words_2=nltk.word_tokenize(text_2)"
   ]
  },
  {
   "cell_type": "code",
   "execution_count": 23,
   "metadata": {},
   "outputs": [
    {
     "data": {
      "text/plain": [
       "45"
      ]
     },
     "execution_count": 23,
     "metadata": {},
     "output_type": "execute_result"
    }
   ],
   "source": [
    "len(words)"
   ]
  },
  {
   "cell_type": "code",
   "execution_count": 53,
   "metadata": {},
   "outputs": [],
   "source": [
    "tagged_list=nltk.pos_tag(words)\n",
    "tagged_list_2=nltk.pos_tag(words_2)"
   ]
  },
  {
   "cell_type": "code",
   "execution_count": 43,
   "metadata": {},
   "outputs": [
    {
     "name": "stdout",
     "output_type": "stream",
     "text": [
      "VBZ: verb, present tense, 3rd person singular\n",
      "    deserves believes receives takes goes expires says opposes starts\n",
      "    permits expects thinks faces votes teaches holds calls fears spends\n",
      "    collects backs eliminates sets flies gives seeks reads ...\n"
     ]
    },
    {
     "data": {
      "text/plain": [
       "'None'"
      ]
     },
     "execution_count": 43,
     "metadata": {},
     "output_type": "execute_result"
    }
   ],
   "source": [
    "str(nltk.help.brown_tagset(\"VBZ\"))"
   ]
  },
  {
   "cell_type": "code",
   "execution_count": 42,
   "metadata": {},
   "outputs": [
    {
     "data": {
      "text/plain": [
       "'None'"
      ]
     },
     "execution_count": 42,
     "metadata": {},
     "output_type": "execute_result"
    }
   ],
   "source": []
  },
  {
   "cell_type": "code",
   "execution_count": 33,
   "metadata": {},
   "outputs": [
    {
     "data": {
      "text/plain": [
       "[('Data', 'NNP'),\n",
       " ('science', 'NN'),\n",
       " ('is', 'VBZ'),\n",
       " ('the', 'DT'),\n",
       " ('study', 'NN'),\n",
       " ('of', 'IN'),\n",
       " ('data', 'NNS'),\n",
       " ('to', 'TO'),\n",
       " ('extract', 'VB'),\n",
       " ('meaningful', 'JJ'),\n",
       " ('insights', 'NNS'),\n",
       " ('for', 'IN'),\n",
       " ('business', 'NN'),\n",
       " ('.', '.'),\n",
       " ('It', 'PRP'),\n",
       " ('is', 'VBZ'),\n",
       " ('a', 'DT'),\n",
       " ('multidisciplinary', 'JJ'),\n",
       " ('approach', 'NN'),\n",
       " ('that', 'WDT'),\n",
       " ('combines', 'VBZ'),\n",
       " ('principles', 'NNS'),\n",
       " ('and', 'CC'),\n",
       " ('practices', 'NNS'),\n",
       " ('from', 'IN'),\n",
       " ('the', 'DT'),\n",
       " ('fields', 'NNS'),\n",
       " ('of', 'IN'),\n",
       " ('mathematics', 'NNS'),\n",
       " (',', ','),\n",
       " ('statistics', 'NNS'),\n",
       " (',', ','),\n",
       " ('artificial', 'JJ'),\n",
       " ('intelligence', 'NN'),\n",
       " (',', ','),\n",
       " ('and', 'CC'),\n",
       " ('computer', 'NN'),\n",
       " ('engineering', 'NN'),\n",
       " ('to', 'TO'),\n",
       " ('analyze', 'VB'),\n",
       " ('large', 'JJ'),\n",
       " ('amounts', 'NNS'),\n",
       " ('of', 'IN'),\n",
       " ('data', 'NNS'),\n",
       " ('.', '.')]"
      ]
     },
     "execution_count": 33,
     "metadata": {},
     "output_type": "execute_result"
    }
   ],
   "source": [
    "tagged_list"
   ]
  },
  {
   "cell_type": "code",
   "execution_count": 49,
   "metadata": {},
   "outputs": [
    {
     "data": {
      "text/plain": [
       "Counter({'NNP': 1,\n",
       "         'NN': 7,\n",
       "         'VBZ': 3,\n",
       "         'DT': 3,\n",
       "         'IN': 5,\n",
       "         'NNS': 9,\n",
       "         'TO': 2,\n",
       "         'VB': 2,\n",
       "         'JJ': 4,\n",
       "         '.': 2,\n",
       "         'PRP': 1,\n",
       "         'WDT': 1,\n",
       "         'CC': 2,\n",
       "         ',': 3})"
      ]
     },
     "execution_count": 49,
     "metadata": {},
     "output_type": "execute_result"
    }
   ],
   "source": [
    "from collections import Counter\n",
    "li=[]\n",
    "for i in tagged_list:\n",
    "            li.append(i[1])\n",
    "\n",
    "Counter(li) # we are getting the counter with All tagged Part of speech in the text\n",
    "\n"
   ]
  },
  {
   "cell_type": "code",
   "execution_count": 8,
   "metadata": {},
   "outputs": [],
   "source": [
    "counter_tocken={'NNP': 1,\n",
    "         'NN': 7,\n",
    "         'VBZ': 3,\n",
    "         'DT': 3,\n",
    "         'IN': 5,\n",
    "         'NNS': 9,\n",
    "         'TO': 2,\n",
    "         'VB': 2,\n",
    "         'JJ': 4,\n",
    "         '.': 2,\n",
    "         'PRP': 1,\n",
    "         'WDT': 1,\n",
    "         'CC': 2,\n",
    "         ',': 3}"
   ]
  },
  {
   "cell_type": "code",
   "execution_count": 9,
   "metadata": {},
   "outputs": [
    {
     "name": "stdout",
     "output_type": "stream",
     "text": [
      "Nouns in text 7\n",
      " Pronouns in text is 0 \n",
      " verbs in text 2 \n",
      " Adjectives in text 4\n"
     ]
    }
   ],
   "source": [
    "print(f\"Nouns in text {counter_tocken['NN']}\\n Pronouns in text is 0 \\n verbs in text {counter_tocken['VB']} \\n Adjectives in text {counter_tocken['JJ']}\")"
   ]
  },
  {
   "cell_type": "code",
   "execution_count": 50,
   "metadata": {},
   "outputs": [
    {
     "name": "stdout",
     "output_type": "stream",
     "text": [
      "No matching tags found.\n",
      "WDT: WH-determiner\n",
      "    which what whatever whichever whichever-the-hell\n",
      ".: sentence terminator\n",
      "    . ? ; ! :\n",
      "VB: verb, base: uninflected present, imperative or infinitive\n",
      "    investigate find act follow inure achieve reduce take remedy re-set\n",
      "    distribute realize disable feel receive continue place protect\n",
      "    eliminate elaborate work permit run enter force ...\n",
      "TO: infinitival to\n",
      "    to t'\n",
      ",: comma\n",
      "    ,\n",
      "NNS: noun, plural, common\n",
      "    irregularities presentments thanks reports voters laws legislators\n",
      "    years areas adjustments chambers $100 bonds courts sales details raises\n",
      "    sessions members congressmen votes polls calls ...\n",
      "IN: preposition\n",
      "    of in for by considering to on among at through with under into\n",
      "    regarding than since despite according per before toward against as\n",
      "    after during including between without except upon out over ...\n",
      "DT: determiner/pronoun, singular\n",
      "    this each another that 'nother\n",
      "VBZ: verb, present tense, 3rd person singular\n",
      "    deserves believes receives takes goes expires says opposes starts\n",
      "    permits expects thinks faces votes teaches holds calls fears spends\n",
      "    collects backs eliminates sets flies gives seeks reads ...\n",
      "NN: noun, singular, common\n",
      "    failure burden court fire appointment awarding compensation Mayor\n",
      "    interim committee fact effect airport management surveillance jail\n",
      "    doctor intern extern night weekend duty legislation Tax Office ...\n",
      "JJ: adjective\n",
      "    ecent over-all possible hard-fought favorable hard meager fit such\n",
      "    widespread outmoded inadequate ambiguous grand clerical effective\n",
      "    orderly federal foster general proportionate ...\n",
      "No matching tags found.\n",
      "CC: conjunction, coordinating\n",
      "    and or but plus & either neither nor yet 'n' and/or minus an'\n"
     ]
    }
   ],
   "source": [
    "for i in set(li):\n",
    "    nltk.help.brown_tagset(i)"
   ]
  },
  {
   "cell_type": "code",
   "execution_count": 54,
   "metadata": {},
   "outputs": [
    {
     "data": {
      "text/plain": [
       "Counter({'NN': 7,\n",
       "         'NNP': 3,\n",
       "         'VBZ': 2,\n",
       "         'DT': 3,\n",
       "         'WDT': 1,\n",
       "         'NNS': 3,\n",
       "         'TO': 2,\n",
       "         'VB': 2,\n",
       "         'IN': 5,\n",
       "         '.': 2,\n",
       "         'VBG': 2,\n",
       "         'JJ': 5,\n",
       "         'RB': 1})"
      ]
     },
     "execution_count": 54,
     "metadata": {},
     "output_type": "execute_result"
    }
   ],
   "source": [
    "from collections import Counter\n",
    "li=[]\n",
    "for i in tagged_list_2:\n",
    "            li.append(i[1])\n",
    "\n",
    "Counter(li)"
   ]
  },
  {
   "cell_type": "code",
   "execution_count": 2,
   "metadata": {},
   "outputs": [],
   "source": [
    "counter_tocken={'NN': 7,\n",
    "         'NNP': 3,\n",
    "         'VBZ': 2,\n",
    "         'DT': 3,\n",
    "         'WDT': 1,\n",
    "         'NNS': 3,\n",
    "         'TO': 2,\n",
    "         'VB': 2,\n",
    "         'IN': 5,\n",
    "         '.': 2,\n",
    "         'VBG': 2,\n",
    "         'JJ': 5,\n",
    "         'RB': 1}"
   ]
  },
  {
   "cell_type": "code",
   "execution_count": 7,
   "metadata": {},
   "outputs": [
    {
     "name": "stdout",
     "output_type": "stream",
     "text": [
      "Nouns in text 7\n",
      " Pronouns in text is 0 \n",
      " verbs in text 2 \n",
      " Adjectives in text 5\n"
     ]
    }
   ],
   "source": [
    "print(f\"Nouns in text {counter_tocken['NN']}\\n Pronouns in text is 0 \\n verbs in text {counter_tocken['VB']} \\n Adjectives in text {counter_tocken['JJ']}\")"
   ]
  },
  {
   "cell_type": "code",
   "execution_count": null,
   "metadata": {},
   "outputs": [],
   "source": []
  }
 ],
 "metadata": {
  "kernelspec": {
   "display_name": "Python 3.10.5 64-bit",
   "language": "python",
   "name": "python3"
  },
  "language_info": {
   "codemirror_mode": {
    "name": "ipython",
    "version": 3
   },
   "file_extension": ".py",
   "mimetype": "text/x-python",
   "name": "python",
   "nbconvert_exporter": "python",
   "pygments_lexer": "ipython3",
   "version": "3.10.11"
  },
  "orig_nbformat": 4,
  "vscode": {
   "interpreter": {
    "hash": "67c23dda25555aef6425b10e6a863c9ba25dc7976a72230746b4a89644ed0763"
   }
  }
 },
 "nbformat": 4,
 "nbformat_minor": 2
}
